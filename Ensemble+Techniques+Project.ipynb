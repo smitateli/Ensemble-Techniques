{
 "cells": [
  {
   "cell_type": "markdown",
   "metadata": {},
   "source": [
    "### CONTEXT: \n",
    "\n",
    "#### A telecom company wants to use their historical customer data to predict behaviour to retain customers. You can analyse all relevant customer data and develop focused customer retention programs."
   ]
  },
  {
   "cell_type": "markdown",
   "metadata": {},
   "source": [
    "### PROJECT OBJECTIVE: \n",
    "\n",
    "#### Build a model that will help to identify the potential customers who have a higher probability to churn. \n",
    "\n",
    "This help the company to understand the pinpoints and patterns of customer churn and will increase the focus on strategising customer retention"
   ]
  },
  {
   "cell_type": "code",
   "execution_count": 1,
   "metadata": {},
   "outputs": [],
   "source": [
    "# Import libraries\n",
    "\n",
    "import pandas as pd\n",
    "import matplotlib.pyplot as plt\n",
    "import seaborn as sns"
   ]
  },
  {
   "cell_type": "markdown",
   "metadata": {},
   "source": [
    "### 1. Import and warehouse data: \n",
    "[ Score: 5 point ]\n",
    "\n",
    "• Import all the given datasets. Explore shape and size.\n",
    "\n",
    "• Merge all datasets onto one and explore final shape and size."
   ]
  },
  {
   "cell_type": "code",
   "execution_count": 2,
   "metadata": {},
   "outputs": [
    {
     "data": {
      "text/plain": [
       "((7043, 10), (7043, 11))"
      ]
     },
     "execution_count": 2,
     "metadata": {},
     "output_type": "execute_result"
    }
   ],
   "source": [
    "# Importing files\n",
    "\n",
    "data1 = pd.read_csv('TelcomCustomer-Churn_1.csv')\n",
    "data2 = pd.read_csv('TelcomCustomer-Churn_2.csv')\n",
    "\n",
    "# See the shape and size of the files\n",
    "\n",
    "data1.shape, data2.shape"
   ]
  },
  {
   "cell_type": "code",
   "execution_count": 3,
   "metadata": {},
   "outputs": [
    {
     "data": {
      "text/plain": [
       "(70430, 77473)"
      ]
     },
     "execution_count": 3,
     "metadata": {},
     "output_type": "execute_result"
    }
   ],
   "source": [
    "data1.size, data2.size"
   ]
  },
  {
   "cell_type": "code",
   "execution_count": 4,
   "metadata": {},
   "outputs": [
    {
     "data": {
      "text/html": [
       "<div>\n",
       "<style scoped>\n",
       "    .dataframe tbody tr th:only-of-type {\n",
       "        vertical-align: middle;\n",
       "    }\n",
       "\n",
       "    .dataframe tbody tr th {\n",
       "        vertical-align: top;\n",
       "    }\n",
       "\n",
       "    .dataframe thead th {\n",
       "        text-align: right;\n",
       "    }\n",
       "</style>\n",
       "<table border=\"1\" class=\"dataframe\">\n",
       "  <thead>\n",
       "    <tr style=\"text-align: right;\">\n",
       "      <th></th>\n",
       "      <th>customerID</th>\n",
       "      <th>gender</th>\n",
       "      <th>SeniorCitizen</th>\n",
       "      <th>Partner</th>\n",
       "      <th>Dependents</th>\n",
       "      <th>tenure</th>\n",
       "      <th>PhoneService</th>\n",
       "      <th>MultipleLines</th>\n",
       "      <th>InternetService</th>\n",
       "      <th>OnlineSecurity</th>\n",
       "    </tr>\n",
       "  </thead>\n",
       "  <tbody>\n",
       "    <tr>\n",
       "      <th>0</th>\n",
       "      <td>7590-VHVEG</td>\n",
       "      <td>Female</td>\n",
       "      <td>0</td>\n",
       "      <td>Yes</td>\n",
       "      <td>No</td>\n",
       "      <td>1</td>\n",
       "      <td>No</td>\n",
       "      <td>No phone service</td>\n",
       "      <td>DSL</td>\n",
       "      <td>No</td>\n",
       "    </tr>\n",
       "    <tr>\n",
       "      <th>1</th>\n",
       "      <td>5575-GNVDE</td>\n",
       "      <td>Male</td>\n",
       "      <td>0</td>\n",
       "      <td>No</td>\n",
       "      <td>No</td>\n",
       "      <td>34</td>\n",
       "      <td>Yes</td>\n",
       "      <td>No</td>\n",
       "      <td>DSL</td>\n",
       "      <td>Yes</td>\n",
       "    </tr>\n",
       "    <tr>\n",
       "      <th>2</th>\n",
       "      <td>3668-QPYBK</td>\n",
       "      <td>Male</td>\n",
       "      <td>0</td>\n",
       "      <td>No</td>\n",
       "      <td>No</td>\n",
       "      <td>2</td>\n",
       "      <td>Yes</td>\n",
       "      <td>No</td>\n",
       "      <td>DSL</td>\n",
       "      <td>Yes</td>\n",
       "    </tr>\n",
       "  </tbody>\n",
       "</table>\n",
       "</div>"
      ],
      "text/plain": [
       "   customerID  gender  SeniorCitizen Partner Dependents  tenure PhoneService  \\\n",
       "0  7590-VHVEG  Female              0     Yes         No       1           No   \n",
       "1  5575-GNVDE    Male              0      No         No      34          Yes   \n",
       "2  3668-QPYBK    Male              0      No         No       2          Yes   \n",
       "\n",
       "      MultipleLines InternetService OnlineSecurity  \n",
       "0  No phone service             DSL             No  \n",
       "1                No             DSL            Yes  \n",
       "2                No             DSL            Yes  "
      ]
     },
     "execution_count": 4,
     "metadata": {},
     "output_type": "execute_result"
    }
   ],
   "source": [
    "# Checking data columns to figure out the data.\n",
    "\n",
    "data1.head(3)"
   ]
  },
  {
   "cell_type": "code",
   "execution_count": 5,
   "metadata": {},
   "outputs": [
    {
     "data": {
      "text/html": [
       "<div>\n",
       "<style scoped>\n",
       "    .dataframe tbody tr th:only-of-type {\n",
       "        vertical-align: middle;\n",
       "    }\n",
       "\n",
       "    .dataframe tbody tr th {\n",
       "        vertical-align: top;\n",
       "    }\n",
       "\n",
       "    .dataframe thead th {\n",
       "        text-align: right;\n",
       "    }\n",
       "</style>\n",
       "<table border=\"1\" class=\"dataframe\">\n",
       "  <thead>\n",
       "    <tr style=\"text-align: right;\">\n",
       "      <th></th>\n",
       "      <th>OnlineBackup</th>\n",
       "      <th>DeviceProtection</th>\n",
       "      <th>TechSupport</th>\n",
       "      <th>StreamingTV</th>\n",
       "      <th>StreamingMovies</th>\n",
       "      <th>Contract</th>\n",
       "      <th>PaperlessBilling</th>\n",
       "      <th>PaymentMethod</th>\n",
       "      <th>MonthlyCharges</th>\n",
       "      <th>TotalCharges</th>\n",
       "      <th>Churn</th>\n",
       "    </tr>\n",
       "  </thead>\n",
       "  <tbody>\n",
       "    <tr>\n",
       "      <th>0</th>\n",
       "      <td>Yes</td>\n",
       "      <td>No</td>\n",
       "      <td>No</td>\n",
       "      <td>No</td>\n",
       "      <td>No</td>\n",
       "      <td>Month-to-month</td>\n",
       "      <td>Yes</td>\n",
       "      <td>Electronic check</td>\n",
       "      <td>29.85</td>\n",
       "      <td>29.85</td>\n",
       "      <td>No</td>\n",
       "    </tr>\n",
       "    <tr>\n",
       "      <th>1</th>\n",
       "      <td>No</td>\n",
       "      <td>Yes</td>\n",
       "      <td>No</td>\n",
       "      <td>No</td>\n",
       "      <td>No</td>\n",
       "      <td>One year</td>\n",
       "      <td>No</td>\n",
       "      <td>Mailed check</td>\n",
       "      <td>56.95</td>\n",
       "      <td>1889.5</td>\n",
       "      <td>No</td>\n",
       "    </tr>\n",
       "    <tr>\n",
       "      <th>2</th>\n",
       "      <td>Yes</td>\n",
       "      <td>No</td>\n",
       "      <td>No</td>\n",
       "      <td>No</td>\n",
       "      <td>No</td>\n",
       "      <td>Month-to-month</td>\n",
       "      <td>Yes</td>\n",
       "      <td>Mailed check</td>\n",
       "      <td>53.85</td>\n",
       "      <td>108.15</td>\n",
       "      <td>Yes</td>\n",
       "    </tr>\n",
       "  </tbody>\n",
       "</table>\n",
       "</div>"
      ],
      "text/plain": [
       "  OnlineBackup DeviceProtection TechSupport StreamingTV StreamingMovies  \\\n",
       "0          Yes               No          No          No              No   \n",
       "1           No              Yes          No          No              No   \n",
       "2          Yes               No          No          No              No   \n",
       "\n",
       "         Contract PaperlessBilling     PaymentMethod  MonthlyCharges  \\\n",
       "0  Month-to-month              Yes  Electronic check           29.85   \n",
       "1        One year               No      Mailed check           56.95   \n",
       "2  Month-to-month              Yes      Mailed check           53.85   \n",
       "\n",
       "  TotalCharges Churn  \n",
       "0        29.85    No  \n",
       "1       1889.5    No  \n",
       "2       108.15   Yes  "
      ]
     },
     "execution_count": 5,
     "metadata": {},
     "output_type": "execute_result"
    }
   ],
   "source": [
    "data2.head(3)"
   ]
  },
  {
   "cell_type": "code",
   "execution_count": 6,
   "metadata": {},
   "outputs": [
    {
     "data": {
      "text/plain": [
       "(7043, 21)"
      ]
     },
     "execution_count": 6,
     "metadata": {},
     "output_type": "execute_result"
    }
   ],
   "source": [
    "# Merging both data sets column wise.\n",
    "\n",
    "data = pd.concat([data1, data2], axis = 1)\n",
    "data.shape\n",
    "\n",
    "# Now we have total 21 columns with same number of rows."
   ]
  },
  {
   "cell_type": "code",
   "execution_count": 7,
   "metadata": {},
   "outputs": [
    {
     "data": {
      "text/plain": [
       "147903"
      ]
     },
     "execution_count": 7,
     "metadata": {},
     "output_type": "execute_result"
    }
   ],
   "source": [
    "data.size"
   ]
  },
  {
   "cell_type": "code",
   "execution_count": 8,
   "metadata": {},
   "outputs": [
    {
     "data": {
      "text/html": [
       "<div>\n",
       "<style scoped>\n",
       "    .dataframe tbody tr th:only-of-type {\n",
       "        vertical-align: middle;\n",
       "    }\n",
       "\n",
       "    .dataframe tbody tr th {\n",
       "        vertical-align: top;\n",
       "    }\n",
       "\n",
       "    .dataframe thead th {\n",
       "        text-align: right;\n",
       "    }\n",
       "</style>\n",
       "<table border=\"1\" class=\"dataframe\">\n",
       "  <thead>\n",
       "    <tr style=\"text-align: right;\">\n",
       "      <th></th>\n",
       "      <th>customerID</th>\n",
       "      <th>gender</th>\n",
       "      <th>SeniorCitizen</th>\n",
       "      <th>Partner</th>\n",
       "      <th>Dependents</th>\n",
       "      <th>tenure</th>\n",
       "      <th>PhoneService</th>\n",
       "      <th>MultipleLines</th>\n",
       "      <th>InternetService</th>\n",
       "      <th>OnlineSecurity</th>\n",
       "      <th>...</th>\n",
       "      <th>DeviceProtection</th>\n",
       "      <th>TechSupport</th>\n",
       "      <th>StreamingTV</th>\n",
       "      <th>StreamingMovies</th>\n",
       "      <th>Contract</th>\n",
       "      <th>PaperlessBilling</th>\n",
       "      <th>PaymentMethod</th>\n",
       "      <th>MonthlyCharges</th>\n",
       "      <th>TotalCharges</th>\n",
       "      <th>Churn</th>\n",
       "    </tr>\n",
       "  </thead>\n",
       "  <tbody>\n",
       "    <tr>\n",
       "      <th>0</th>\n",
       "      <td>7590-VHVEG</td>\n",
       "      <td>Female</td>\n",
       "      <td>0</td>\n",
       "      <td>Yes</td>\n",
       "      <td>No</td>\n",
       "      <td>1</td>\n",
       "      <td>No</td>\n",
       "      <td>No phone service</td>\n",
       "      <td>DSL</td>\n",
       "      <td>No</td>\n",
       "      <td>...</td>\n",
       "      <td>No</td>\n",
       "      <td>No</td>\n",
       "      <td>No</td>\n",
       "      <td>No</td>\n",
       "      <td>Month-to-month</td>\n",
       "      <td>Yes</td>\n",
       "      <td>Electronic check</td>\n",
       "      <td>29.85</td>\n",
       "      <td>29.85</td>\n",
       "      <td>No</td>\n",
       "    </tr>\n",
       "    <tr>\n",
       "      <th>1</th>\n",
       "      <td>5575-GNVDE</td>\n",
       "      <td>Male</td>\n",
       "      <td>0</td>\n",
       "      <td>No</td>\n",
       "      <td>No</td>\n",
       "      <td>34</td>\n",
       "      <td>Yes</td>\n",
       "      <td>No</td>\n",
       "      <td>DSL</td>\n",
       "      <td>Yes</td>\n",
       "      <td>...</td>\n",
       "      <td>Yes</td>\n",
       "      <td>No</td>\n",
       "      <td>No</td>\n",
       "      <td>No</td>\n",
       "      <td>One year</td>\n",
       "      <td>No</td>\n",
       "      <td>Mailed check</td>\n",
       "      <td>56.95</td>\n",
       "      <td>1889.5</td>\n",
       "      <td>No</td>\n",
       "    </tr>\n",
       "    <tr>\n",
       "      <th>2</th>\n",
       "      <td>3668-QPYBK</td>\n",
       "      <td>Male</td>\n",
       "      <td>0</td>\n",
       "      <td>No</td>\n",
       "      <td>No</td>\n",
       "      <td>2</td>\n",
       "      <td>Yes</td>\n",
       "      <td>No</td>\n",
       "      <td>DSL</td>\n",
       "      <td>Yes</td>\n",
       "      <td>...</td>\n",
       "      <td>No</td>\n",
       "      <td>No</td>\n",
       "      <td>No</td>\n",
       "      <td>No</td>\n",
       "      <td>Month-to-month</td>\n",
       "      <td>Yes</td>\n",
       "      <td>Mailed check</td>\n",
       "      <td>53.85</td>\n",
       "      <td>108.15</td>\n",
       "      <td>Yes</td>\n",
       "    </tr>\n",
       "  </tbody>\n",
       "</table>\n",
       "<p>3 rows × 21 columns</p>\n",
       "</div>"
      ],
      "text/plain": [
       "   customerID  gender  SeniorCitizen Partner Dependents  tenure PhoneService  \\\n",
       "0  7590-VHVEG  Female              0     Yes         No       1           No   \n",
       "1  5575-GNVDE    Male              0      No         No      34          Yes   \n",
       "2  3668-QPYBK    Male              0      No         No       2          Yes   \n",
       "\n",
       "      MultipleLines InternetService OnlineSecurity  ... DeviceProtection  \\\n",
       "0  No phone service             DSL             No  ...               No   \n",
       "1                No             DSL            Yes  ...              Yes   \n",
       "2                No             DSL            Yes  ...               No   \n",
       "\n",
       "  TechSupport StreamingTV StreamingMovies        Contract PaperlessBilling  \\\n",
       "0          No          No              No  Month-to-month              Yes   \n",
       "1          No          No              No        One year               No   \n",
       "2          No          No              No  Month-to-month              Yes   \n",
       "\n",
       "      PaymentMethod MonthlyCharges  TotalCharges Churn  \n",
       "0  Electronic check          29.85         29.85    No  \n",
       "1      Mailed check          56.95        1889.5    No  \n",
       "2      Mailed check          53.85        108.15   Yes  \n",
       "\n",
       "[3 rows x 21 columns]"
      ]
     },
     "execution_count": 8,
     "metadata": {},
     "output_type": "execute_result"
    }
   ],
   "source": [
    "data.head(3)"
   ]
  },
  {
   "cell_type": "markdown",
   "metadata": {},
   "source": [
    "### 2. Data cleansing: \n",
    "[ Score: 10 point ]\n",
    "\n",
    "• Missing value treatment\n",
    "\n",
    "• Convert categorical attributes to continuous using relevant functional knowledge\n",
    "\n",
    "• Drop attribute/s if required using relevant functional knowledge\n",
    "\n",
    "• Automate all the above steps"
   ]
  },
  {
   "cell_type": "code",
   "execution_count": 9,
   "metadata": {},
   "outputs": [
    {
     "name": "stdout",
     "output_type": "stream",
     "text": [
      "<class 'pandas.core.frame.DataFrame'>\n",
      "RangeIndex: 7043 entries, 0 to 7042\n",
      "Data columns (total 21 columns):\n",
      " #   Column            Non-Null Count  Dtype  \n",
      "---  ------            --------------  -----  \n",
      " 0   customerID        7043 non-null   object \n",
      " 1   gender            7043 non-null   object \n",
      " 2   SeniorCitizen     7043 non-null   int64  \n",
      " 3   Partner           7043 non-null   object \n",
      " 4   Dependents        7043 non-null   object \n",
      " 5   tenure            7043 non-null   int64  \n",
      " 6   PhoneService      7043 non-null   object \n",
      " 7   MultipleLines     7043 non-null   object \n",
      " 8   InternetService   7043 non-null   object \n",
      " 9   OnlineSecurity    7043 non-null   object \n",
      " 10  OnlineBackup      7043 non-null   object \n",
      " 11  DeviceProtection  7043 non-null   object \n",
      " 12  TechSupport       7043 non-null   object \n",
      " 13  StreamingTV       7043 non-null   object \n",
      " 14  StreamingMovies   7043 non-null   object \n",
      " 15  Contract          7043 non-null   object \n",
      " 16  PaperlessBilling  7043 non-null   object \n",
      " 17  PaymentMethod     7043 non-null   object \n",
      " 18  MonthlyCharges    7043 non-null   float64\n",
      " 19  TotalCharges      7043 non-null   object \n",
      " 20  Churn             7043 non-null   object \n",
      "dtypes: float64(1), int64(2), object(18)\n",
      "memory usage: 1.1+ MB\n"
     ]
    }
   ],
   "source": [
    "# Checking for columns, data types and Non-null values\n",
    "\n",
    "data.info()"
   ]
  },
  {
   "cell_type": "markdown",
   "metadata": {},
   "source": [
    "We will need to change data types as most of the columns are categorical and few of the other as well have incorrect data types.\n",
    "\n",
    "SeniorCitizen is in int64 which should be categorical.\n",
    "\n",
    "TotalCharges is object which should be float64. It might have some null values so its data type is object. We will check it."
   ]
  },
  {
   "cell_type": "code",
   "execution_count": 10,
   "metadata": {},
   "outputs": [
    {
     "data": {
      "text/plain": [
       "0"
      ]
     },
     "execution_count": 10,
     "metadata": {},
     "output_type": "execute_result"
    }
   ],
   "source": [
    "# Checking for null values\n",
    "\n",
    "data.isnull().sum().sum()\n",
    "\n",
    "# No missing values"
   ]
  },
  {
   "cell_type": "code",
   "execution_count": 11,
   "metadata": {},
   "outputs": [
    {
     "data": {
      "text/html": [
       "<div>\n",
       "<style scoped>\n",
       "    .dataframe tbody tr th:only-of-type {\n",
       "        vertical-align: middle;\n",
       "    }\n",
       "\n",
       "    .dataframe tbody tr th {\n",
       "        vertical-align: top;\n",
       "    }\n",
       "\n",
       "    .dataframe thead th {\n",
       "        text-align: right;\n",
       "    }\n",
       "</style>\n",
       "<table border=\"1\" class=\"dataframe\">\n",
       "  <thead>\n",
       "    <tr style=\"text-align: right;\">\n",
       "      <th></th>\n",
       "      <th>0</th>\n",
       "      <th>1</th>\n",
       "      <th>2</th>\n",
       "      <th>3</th>\n",
       "      <th>4</th>\n",
       "      <th>5</th>\n",
       "      <th>6</th>\n",
       "    </tr>\n",
       "  </thead>\n",
       "  <tbody>\n",
       "    <tr>\n",
       "      <th>customerID</th>\n",
       "      <td>7590-VHVEG</td>\n",
       "      <td>5575-GNVDE</td>\n",
       "      <td>3668-QPYBK</td>\n",
       "      <td>7795-CFOCW</td>\n",
       "      <td>9237-HQITU</td>\n",
       "      <td>9305-CDSKC</td>\n",
       "      <td>1452-KIOVK</td>\n",
       "    </tr>\n",
       "    <tr>\n",
       "      <th>gender</th>\n",
       "      <td>Female</td>\n",
       "      <td>Male</td>\n",
       "      <td>Male</td>\n",
       "      <td>Male</td>\n",
       "      <td>Female</td>\n",
       "      <td>Female</td>\n",
       "      <td>Male</td>\n",
       "    </tr>\n",
       "    <tr>\n",
       "      <th>SeniorCitizen</th>\n",
       "      <td>0</td>\n",
       "      <td>0</td>\n",
       "      <td>0</td>\n",
       "      <td>0</td>\n",
       "      <td>0</td>\n",
       "      <td>0</td>\n",
       "      <td>0</td>\n",
       "    </tr>\n",
       "    <tr>\n",
       "      <th>Partner</th>\n",
       "      <td>Yes</td>\n",
       "      <td>No</td>\n",
       "      <td>No</td>\n",
       "      <td>No</td>\n",
       "      <td>No</td>\n",
       "      <td>No</td>\n",
       "      <td>No</td>\n",
       "    </tr>\n",
       "    <tr>\n",
       "      <th>Dependents</th>\n",
       "      <td>No</td>\n",
       "      <td>No</td>\n",
       "      <td>No</td>\n",
       "      <td>No</td>\n",
       "      <td>No</td>\n",
       "      <td>No</td>\n",
       "      <td>Yes</td>\n",
       "    </tr>\n",
       "    <tr>\n",
       "      <th>tenure</th>\n",
       "      <td>1</td>\n",
       "      <td>34</td>\n",
       "      <td>2</td>\n",
       "      <td>45</td>\n",
       "      <td>2</td>\n",
       "      <td>8</td>\n",
       "      <td>22</td>\n",
       "    </tr>\n",
       "    <tr>\n",
       "      <th>PhoneService</th>\n",
       "      <td>No</td>\n",
       "      <td>Yes</td>\n",
       "      <td>Yes</td>\n",
       "      <td>No</td>\n",
       "      <td>Yes</td>\n",
       "      <td>Yes</td>\n",
       "      <td>Yes</td>\n",
       "    </tr>\n",
       "    <tr>\n",
       "      <th>MultipleLines</th>\n",
       "      <td>No phone service</td>\n",
       "      <td>No</td>\n",
       "      <td>No</td>\n",
       "      <td>No phone service</td>\n",
       "      <td>No</td>\n",
       "      <td>Yes</td>\n",
       "      <td>Yes</td>\n",
       "    </tr>\n",
       "    <tr>\n",
       "      <th>InternetService</th>\n",
       "      <td>DSL</td>\n",
       "      <td>DSL</td>\n",
       "      <td>DSL</td>\n",
       "      <td>DSL</td>\n",
       "      <td>Fiber optic</td>\n",
       "      <td>Fiber optic</td>\n",
       "      <td>Fiber optic</td>\n",
       "    </tr>\n",
       "    <tr>\n",
       "      <th>OnlineSecurity</th>\n",
       "      <td>No</td>\n",
       "      <td>Yes</td>\n",
       "      <td>Yes</td>\n",
       "      <td>Yes</td>\n",
       "      <td>No</td>\n",
       "      <td>No</td>\n",
       "      <td>No</td>\n",
       "    </tr>\n",
       "    <tr>\n",
       "      <th>OnlineBackup</th>\n",
       "      <td>Yes</td>\n",
       "      <td>No</td>\n",
       "      <td>Yes</td>\n",
       "      <td>No</td>\n",
       "      <td>No</td>\n",
       "      <td>No</td>\n",
       "      <td>Yes</td>\n",
       "    </tr>\n",
       "    <tr>\n",
       "      <th>DeviceProtection</th>\n",
       "      <td>No</td>\n",
       "      <td>Yes</td>\n",
       "      <td>No</td>\n",
       "      <td>Yes</td>\n",
       "      <td>No</td>\n",
       "      <td>Yes</td>\n",
       "      <td>No</td>\n",
       "    </tr>\n",
       "    <tr>\n",
       "      <th>TechSupport</th>\n",
       "      <td>No</td>\n",
       "      <td>No</td>\n",
       "      <td>No</td>\n",
       "      <td>Yes</td>\n",
       "      <td>No</td>\n",
       "      <td>No</td>\n",
       "      <td>No</td>\n",
       "    </tr>\n",
       "    <tr>\n",
       "      <th>StreamingTV</th>\n",
       "      <td>No</td>\n",
       "      <td>No</td>\n",
       "      <td>No</td>\n",
       "      <td>No</td>\n",
       "      <td>No</td>\n",
       "      <td>Yes</td>\n",
       "      <td>Yes</td>\n",
       "    </tr>\n",
       "    <tr>\n",
       "      <th>StreamingMovies</th>\n",
       "      <td>No</td>\n",
       "      <td>No</td>\n",
       "      <td>No</td>\n",
       "      <td>No</td>\n",
       "      <td>No</td>\n",
       "      <td>Yes</td>\n",
       "      <td>No</td>\n",
       "    </tr>\n",
       "    <tr>\n",
       "      <th>Contract</th>\n",
       "      <td>Month-to-month</td>\n",
       "      <td>One year</td>\n",
       "      <td>Month-to-month</td>\n",
       "      <td>One year</td>\n",
       "      <td>Month-to-month</td>\n",
       "      <td>Month-to-month</td>\n",
       "      <td>Month-to-month</td>\n",
       "    </tr>\n",
       "    <tr>\n",
       "      <th>PaperlessBilling</th>\n",
       "      <td>Yes</td>\n",
       "      <td>No</td>\n",
       "      <td>Yes</td>\n",
       "      <td>No</td>\n",
       "      <td>Yes</td>\n",
       "      <td>Yes</td>\n",
       "      <td>Yes</td>\n",
       "    </tr>\n",
       "    <tr>\n",
       "      <th>PaymentMethod</th>\n",
       "      <td>Electronic check</td>\n",
       "      <td>Mailed check</td>\n",
       "      <td>Mailed check</td>\n",
       "      <td>Bank transfer (automatic)</td>\n",
       "      <td>Electronic check</td>\n",
       "      <td>Electronic check</td>\n",
       "      <td>Credit card (automatic)</td>\n",
       "    </tr>\n",
       "    <tr>\n",
       "      <th>MonthlyCharges</th>\n",
       "      <td>29.85</td>\n",
       "      <td>56.95</td>\n",
       "      <td>53.85</td>\n",
       "      <td>42.3</td>\n",
       "      <td>70.7</td>\n",
       "      <td>99.65</td>\n",
       "      <td>89.1</td>\n",
       "    </tr>\n",
       "    <tr>\n",
       "      <th>TotalCharges</th>\n",
       "      <td>29.85</td>\n",
       "      <td>1889.5</td>\n",
       "      <td>108.15</td>\n",
       "      <td>1840.75</td>\n",
       "      <td>151.65</td>\n",
       "      <td>820.5</td>\n",
       "      <td>1949.4</td>\n",
       "    </tr>\n",
       "    <tr>\n",
       "      <th>Churn</th>\n",
       "      <td>No</td>\n",
       "      <td>No</td>\n",
       "      <td>Yes</td>\n",
       "      <td>No</td>\n",
       "      <td>Yes</td>\n",
       "      <td>Yes</td>\n",
       "      <td>No</td>\n",
       "    </tr>\n",
       "  </tbody>\n",
       "</table>\n",
       "</div>"
      ],
      "text/plain": [
       "                                 0             1               2  \\\n",
       "customerID              7590-VHVEG    5575-GNVDE      3668-QPYBK   \n",
       "gender                      Female          Male            Male   \n",
       "SeniorCitizen                    0             0               0   \n",
       "Partner                        Yes            No              No   \n",
       "Dependents                      No            No              No   \n",
       "tenure                           1            34               2   \n",
       "PhoneService                    No           Yes             Yes   \n",
       "MultipleLines     No phone service            No              No   \n",
       "InternetService                DSL           DSL             DSL   \n",
       "OnlineSecurity                  No           Yes             Yes   \n",
       "OnlineBackup                   Yes            No             Yes   \n",
       "DeviceProtection                No           Yes              No   \n",
       "TechSupport                     No            No              No   \n",
       "StreamingTV                     No            No              No   \n",
       "StreamingMovies                 No            No              No   \n",
       "Contract            Month-to-month      One year  Month-to-month   \n",
       "PaperlessBilling               Yes            No             Yes   \n",
       "PaymentMethod     Electronic check  Mailed check    Mailed check   \n",
       "MonthlyCharges               29.85         56.95           53.85   \n",
       "TotalCharges                 29.85        1889.5          108.15   \n",
       "Churn                           No            No             Yes   \n",
       "\n",
       "                                          3                 4  \\\n",
       "customerID                       7795-CFOCW        9237-HQITU   \n",
       "gender                                 Male            Female   \n",
       "SeniorCitizen                             0                 0   \n",
       "Partner                                  No                No   \n",
       "Dependents                               No                No   \n",
       "tenure                                   45                 2   \n",
       "PhoneService                             No               Yes   \n",
       "MultipleLines              No phone service                No   \n",
       "InternetService                         DSL       Fiber optic   \n",
       "OnlineSecurity                          Yes                No   \n",
       "OnlineBackup                             No                No   \n",
       "DeviceProtection                        Yes                No   \n",
       "TechSupport                             Yes                No   \n",
       "StreamingTV                              No                No   \n",
       "StreamingMovies                          No                No   \n",
       "Contract                           One year    Month-to-month   \n",
       "PaperlessBilling                         No               Yes   \n",
       "PaymentMethod     Bank transfer (automatic)  Electronic check   \n",
       "MonthlyCharges                         42.3              70.7   \n",
       "TotalCharges                        1840.75            151.65   \n",
       "Churn                                    No               Yes   \n",
       "\n",
       "                                 5                        6  \n",
       "customerID              9305-CDSKC               1452-KIOVK  \n",
       "gender                      Female                     Male  \n",
       "SeniorCitizen                    0                        0  \n",
       "Partner                         No                       No  \n",
       "Dependents                      No                      Yes  \n",
       "tenure                           8                       22  \n",
       "PhoneService                   Yes                      Yes  \n",
       "MultipleLines                  Yes                      Yes  \n",
       "InternetService        Fiber optic              Fiber optic  \n",
       "OnlineSecurity                  No                       No  \n",
       "OnlineBackup                    No                      Yes  \n",
       "DeviceProtection               Yes                       No  \n",
       "TechSupport                     No                       No  \n",
       "StreamingTV                    Yes                      Yes  \n",
       "StreamingMovies                Yes                       No  \n",
       "Contract            Month-to-month           Month-to-month  \n",
       "PaperlessBilling               Yes                      Yes  \n",
       "PaymentMethod     Electronic check  Credit card (automatic)  \n",
       "MonthlyCharges               99.65                     89.1  \n",
       "TotalCharges                 820.5                   1949.4  \n",
       "Churn                          Yes                       No  "
      ]
     },
     "execution_count": 11,
     "metadata": {},
     "output_type": "execute_result"
    }
   ],
   "source": [
    "# Checking column values\n",
    "\n",
    "data.head(7).T"
   ]
  },
  {
   "cell_type": "markdown",
   "metadata": {},
   "source": [
    "We will not need customerID for analysis.\n"
   ]
  },
  {
   "cell_type": "code",
   "execution_count": 12,
   "metadata": {},
   "outputs": [
    {
     "data": {
      "text/html": [
       "<div>\n",
       "<style scoped>\n",
       "    .dataframe tbody tr th:only-of-type {\n",
       "        vertical-align: middle;\n",
       "    }\n",
       "\n",
       "    .dataframe tbody tr th {\n",
       "        vertical-align: top;\n",
       "    }\n",
       "\n",
       "    .dataframe thead th {\n",
       "        text-align: right;\n",
       "    }\n",
       "</style>\n",
       "<table border=\"1\" class=\"dataframe\">\n",
       "  <thead>\n",
       "    <tr style=\"text-align: right;\">\n",
       "      <th></th>\n",
       "      <th>gender</th>\n",
       "      <th>SeniorCitizen</th>\n",
       "      <th>Partner</th>\n",
       "      <th>Dependents</th>\n",
       "      <th>tenure</th>\n",
       "      <th>PhoneService</th>\n",
       "      <th>MultipleLines</th>\n",
       "      <th>InternetService</th>\n",
       "      <th>OnlineSecurity</th>\n",
       "      <th>OnlineBackup</th>\n",
       "      <th>DeviceProtection</th>\n",
       "      <th>TechSupport</th>\n",
       "      <th>StreamingTV</th>\n",
       "      <th>StreamingMovies</th>\n",
       "      <th>Contract</th>\n",
       "      <th>PaperlessBilling</th>\n",
       "      <th>PaymentMethod</th>\n",
       "      <th>MonthlyCharges</th>\n",
       "      <th>TotalCharges</th>\n",
       "      <th>Churn</th>\n",
       "    </tr>\n",
       "  </thead>\n",
       "  <tbody>\n",
       "    <tr>\n",
       "      <th>0</th>\n",
       "      <td>Female</td>\n",
       "      <td>0</td>\n",
       "      <td>Yes</td>\n",
       "      <td>No</td>\n",
       "      <td>1</td>\n",
       "      <td>No</td>\n",
       "      <td>No phone service</td>\n",
       "      <td>DSL</td>\n",
       "      <td>No</td>\n",
       "      <td>Yes</td>\n",
       "      <td>No</td>\n",
       "      <td>No</td>\n",
       "      <td>No</td>\n",
       "      <td>No</td>\n",
       "      <td>Month-to-month</td>\n",
       "      <td>Yes</td>\n",
       "      <td>Electronic check</td>\n",
       "      <td>29.85</td>\n",
       "      <td>29.85</td>\n",
       "      <td>No</td>\n",
       "    </tr>\n",
       "    <tr>\n",
       "      <th>1</th>\n",
       "      <td>Male</td>\n",
       "      <td>0</td>\n",
       "      <td>No</td>\n",
       "      <td>No</td>\n",
       "      <td>34</td>\n",
       "      <td>Yes</td>\n",
       "      <td>No</td>\n",
       "      <td>DSL</td>\n",
       "      <td>Yes</td>\n",
       "      <td>No</td>\n",
       "      <td>Yes</td>\n",
       "      <td>No</td>\n",
       "      <td>No</td>\n",
       "      <td>No</td>\n",
       "      <td>One year</td>\n",
       "      <td>No</td>\n",
       "      <td>Mailed check</td>\n",
       "      <td>56.95</td>\n",
       "      <td>1889.5</td>\n",
       "      <td>No</td>\n",
       "    </tr>\n",
       "  </tbody>\n",
       "</table>\n",
       "</div>"
      ],
      "text/plain": [
       "   gender  SeniorCitizen Partner Dependents  tenure PhoneService  \\\n",
       "0  Female              0     Yes         No       1           No   \n",
       "1    Male              0      No         No      34          Yes   \n",
       "\n",
       "      MultipleLines InternetService OnlineSecurity OnlineBackup  \\\n",
       "0  No phone service             DSL             No          Yes   \n",
       "1                No             DSL            Yes           No   \n",
       "\n",
       "  DeviceProtection TechSupport StreamingTV StreamingMovies        Contract  \\\n",
       "0               No          No          No              No  Month-to-month   \n",
       "1              Yes          No          No              No        One year   \n",
       "\n",
       "  PaperlessBilling     PaymentMethod  MonthlyCharges TotalCharges Churn  \n",
       "0              Yes  Electronic check           29.85        29.85    No  \n",
       "1               No      Mailed check           56.95       1889.5    No  "
      ]
     },
     "execution_count": 12,
     "metadata": {},
     "output_type": "execute_result"
    }
   ],
   "source": [
    "# We do not need Customer ID, so lets drop that column\n",
    "\n",
    "data.drop('customerID', axis = 1, inplace = True)\n",
    "data.head(2)"
   ]
  },
  {
   "cell_type": "code",
   "execution_count": 13,
   "metadata": {},
   "outputs": [
    {
     "name": "stdout",
     "output_type": "stream",
     "text": [
      "gender ['Female' 'Male'] object\n",
      "SeniorCitizen [0 1] int64\n",
      "Partner ['Yes' 'No'] object\n",
      "Dependents ['No' 'Yes'] object\n",
      "tenure [ 1 34  2 45  8 22 10 28 62 13 16 58 49 25 69 52 71 21 12 30 47 72 17 27\n",
      "  5 46 11 70 63 43 15 60 18 66  9  3 31 50 64 56  7 42 35 48 29 65 38 68\n",
      " 32 55 37 36 41  6  4 33 67 23 57 61 14 20 53 40 59 24 44 19 54 51 26  0\n",
      " 39] int64\n",
      "PhoneService ['No' 'Yes'] object\n",
      "MultipleLines ['No phone service' 'No' 'Yes'] object\n",
      "InternetService ['DSL' 'Fiber optic' 'No'] object\n",
      "OnlineSecurity ['No' 'Yes' 'No internet service'] object\n",
      "OnlineBackup ['Yes' 'No' 'No internet service'] object\n",
      "DeviceProtection ['No' 'Yes' 'No internet service'] object\n",
      "TechSupport ['No' 'Yes' 'No internet service'] object\n",
      "StreamingTV ['No' 'Yes' 'No internet service'] object\n",
      "StreamingMovies ['No' 'Yes' 'No internet service'] object\n",
      "Contract ['Month-to-month' 'One year' 'Two year'] object\n",
      "PaperlessBilling ['Yes' 'No'] object\n",
      "PaymentMethod ['Electronic check' 'Mailed check' 'Bank transfer (automatic)'\n",
      " 'Credit card (automatic)'] object\n",
      "MonthlyCharges [29.85 56.95 53.85 ... 63.1  44.2  78.7 ] float64\n",
      "TotalCharges ['29.85' '1889.5' '108.15' ... '346.45' '306.6' '6844.5'] object\n",
      "Churn ['No' 'Yes'] object\n"
     ]
    }
   ],
   "source": [
    "# Let us check column values to see if any descripancy\n",
    "\n",
    "columns = data.columns\n",
    "for i in columns:\n",
    "    print(i, (data[i].unique()), data[i].dtype)"
   ]
  },
  {
   "cell_type": "markdown",
   "metadata": {},
   "source": [
    "We need to know what all unique values are present for each categorical variable to see if they are ordered or unordered. We will use replace from few columns and LableEncoder for few to change it to categorical."
   ]
  },
  {
   "cell_type": "code",
   "execution_count": 14,
   "metadata": {},
   "outputs": [],
   "source": [
    "# We will need to convert all objects into categorical except TotalCharges which needs to convert to float64.\n",
    "\n",
    "data['TotalCharges'] = pd.to_numeric(data['TotalCharges'], errors = 'coerce')"
   ]
  },
  {
   "cell_type": "code",
   "execution_count": 15,
   "metadata": {},
   "outputs": [
    {
     "data": {
      "text/plain": [
       "11"
      ]
     },
     "execution_count": 15,
     "metadata": {},
     "output_type": "execute_result"
    }
   ],
   "source": [
    "# Let us check for missing values\n",
    "\n",
    "data.isnull().sum().sum()"
   ]
  },
  {
   "cell_type": "code",
   "execution_count": 16,
   "metadata": {},
   "outputs": [
    {
     "data": {
      "text/plain": [
       "(7032, 20)"
      ]
     },
     "execution_count": 16,
     "metadata": {},
     "output_type": "execute_result"
    }
   ],
   "source": [
    "# We have 11 missing values, we will drop these as its small number compared to total data.\n",
    "\n",
    "data.dropna(axis = 0, inplace = True)\n",
    "data.shape"
   ]
  },
  {
   "cell_type": "code",
   "execution_count": 17,
   "metadata": {},
   "outputs": [],
   "source": [
    "# Convert objects into codes as they are categorical variables\n",
    "# Giving codes manually to categories which also has other than yes and no.\n",
    "\n",
    "replaceCat = {'MultipleLines': {'No phone service': -1, 'No': 0, 'Yes': 1},\n",
    "          'OnlineSecurity': {'No internet service': -1, 'No': 0, 'Yes': 1},\n",
    "          'OnlineBackup': {'No internet service': -1, 'No': 0, 'Yes': 1},\n",
    "          'DeviceProtection': {'No internet service': -1, 'No': 0, 'Yes': 1},\n",
    "          'TechSupport': {'No internet service': -1, 'No': 0, 'Yes': 1},\n",
    "          'StreamingTV': {'No internet service': -1, 'No': 0, 'Yes': 1},\n",
    "          'StreamingMovies': {'No internet service': -1, 'No': 0, 'Yes': 1},\n",
    "             'InternetService': {'DSL': 0, 'Fiber optic': 1, 'No': -1},\n",
    "             'Contract': {'Month-to-month': 0, 'One year': 1, 'Two year': 2},\n",
    "             'PaymentMethod': {'Electronic check': 0, 'Mailed check': 1, \n",
    "                               'Bank transfer (automatic)': 2, 'Credit card (automatic)': 3}}\n",
    "\n",
    "data = data.replace(replaceCat)"
   ]
  },
  {
   "cell_type": "code",
   "execution_count": 18,
   "metadata": {},
   "outputs": [],
   "source": [
    "LabelEncod = ['gender', 'Partner', 'Dependents', 'PhoneService', 'PaperlessBilling', 'Churn']\n",
    "\n",
    "from sklearn.preprocessing import LabelEncoder \n",
    "labelencoder = LabelEncoder()\n",
    "for i in LabelEncod:\n",
    "    data[i] = labelencoder.fit_transform(data[i])"
   ]
  },
  {
   "cell_type": "code",
   "execution_count": 19,
   "metadata": {},
   "outputs": [
    {
     "data": {
      "text/plain": [
       "gender                int64\n",
       "SeniorCitizen         int64\n",
       "Partner               int64\n",
       "Dependents            int64\n",
       "tenure                int64\n",
       "PhoneService          int64\n",
       "MultipleLines         int64\n",
       "InternetService       int64\n",
       "OnlineSecurity        int64\n",
       "OnlineBackup          int64\n",
       "DeviceProtection      int64\n",
       "TechSupport           int64\n",
       "StreamingTV           int64\n",
       "StreamingMovies       int64\n",
       "Contract              int64\n",
       "PaperlessBilling      int64\n",
       "PaymentMethod         int64\n",
       "MonthlyCharges      float64\n",
       "TotalCharges        float64\n",
       "Churn                 int64\n",
       "dtype: object"
      ]
     },
     "execution_count": 19,
     "metadata": {},
     "output_type": "execute_result"
    }
   ],
   "source": [
    "data.dtypes"
   ]
  },
  {
   "cell_type": "code",
   "execution_count": 20,
   "metadata": {},
   "outputs": [],
   "source": [
    "# Convert datatypes to category\n",
    "for col_name in data.columns:\n",
    "    if(data[col_name].dtype == 'int64'):\n",
    "        data[col_name] = data[col_name].astype('category').cat.as_ordered()\n",
    "    if(data[col_name].dtype == 'object'):\n",
    "        data[col_name] = data[col_name].astype('category').cat.as_ordered()\n",
    "        \n",
    "data['tenure'] = data['tenure'].astype('int64')"
   ]
  },
  {
   "cell_type": "code",
   "execution_count": 21,
   "metadata": {},
   "outputs": [
    {
     "data": {
      "text/html": [
       "<div>\n",
       "<style scoped>\n",
       "    .dataframe tbody tr th:only-of-type {\n",
       "        vertical-align: middle;\n",
       "    }\n",
       "\n",
       "    .dataframe tbody tr th {\n",
       "        vertical-align: top;\n",
       "    }\n",
       "\n",
       "    .dataframe thead th {\n",
       "        text-align: right;\n",
       "    }\n",
       "</style>\n",
       "<table border=\"1\" class=\"dataframe\">\n",
       "  <thead>\n",
       "    <tr style=\"text-align: right;\">\n",
       "      <th></th>\n",
       "      <th>gender</th>\n",
       "      <th>SeniorCitizen</th>\n",
       "      <th>Partner</th>\n",
       "      <th>Dependents</th>\n",
       "      <th>tenure</th>\n",
       "      <th>PhoneService</th>\n",
       "      <th>MultipleLines</th>\n",
       "      <th>InternetService</th>\n",
       "      <th>OnlineSecurity</th>\n",
       "      <th>OnlineBackup</th>\n",
       "      <th>DeviceProtection</th>\n",
       "      <th>TechSupport</th>\n",
       "      <th>StreamingTV</th>\n",
       "      <th>StreamingMovies</th>\n",
       "      <th>Contract</th>\n",
       "      <th>PaperlessBilling</th>\n",
       "      <th>PaymentMethod</th>\n",
       "      <th>MonthlyCharges</th>\n",
       "      <th>TotalCharges</th>\n",
       "      <th>Churn</th>\n",
       "    </tr>\n",
       "  </thead>\n",
       "  <tbody>\n",
       "    <tr>\n",
       "      <th>0</th>\n",
       "      <td>0</td>\n",
       "      <td>0</td>\n",
       "      <td>1</td>\n",
       "      <td>0</td>\n",
       "      <td>1</td>\n",
       "      <td>0</td>\n",
       "      <td>-1</td>\n",
       "      <td>0</td>\n",
       "      <td>0</td>\n",
       "      <td>1</td>\n",
       "      <td>0</td>\n",
       "      <td>0</td>\n",
       "      <td>0</td>\n",
       "      <td>0</td>\n",
       "      <td>0</td>\n",
       "      <td>1</td>\n",
       "      <td>0</td>\n",
       "      <td>29.85</td>\n",
       "      <td>29.85</td>\n",
       "      <td>0</td>\n",
       "    </tr>\n",
       "    <tr>\n",
       "      <th>1</th>\n",
       "      <td>1</td>\n",
       "      <td>0</td>\n",
       "      <td>0</td>\n",
       "      <td>0</td>\n",
       "      <td>34</td>\n",
       "      <td>1</td>\n",
       "      <td>0</td>\n",
       "      <td>0</td>\n",
       "      <td>1</td>\n",
       "      <td>0</td>\n",
       "      <td>1</td>\n",
       "      <td>0</td>\n",
       "      <td>0</td>\n",
       "      <td>0</td>\n",
       "      <td>1</td>\n",
       "      <td>0</td>\n",
       "      <td>1</td>\n",
       "      <td>56.95</td>\n",
       "      <td>1889.50</td>\n",
       "      <td>0</td>\n",
       "    </tr>\n",
       "    <tr>\n",
       "      <th>2</th>\n",
       "      <td>1</td>\n",
       "      <td>0</td>\n",
       "      <td>0</td>\n",
       "      <td>0</td>\n",
       "      <td>2</td>\n",
       "      <td>1</td>\n",
       "      <td>0</td>\n",
       "      <td>0</td>\n",
       "      <td>1</td>\n",
       "      <td>1</td>\n",
       "      <td>0</td>\n",
       "      <td>0</td>\n",
       "      <td>0</td>\n",
       "      <td>0</td>\n",
       "      <td>0</td>\n",
       "      <td>1</td>\n",
       "      <td>1</td>\n",
       "      <td>53.85</td>\n",
       "      <td>108.15</td>\n",
       "      <td>1</td>\n",
       "    </tr>\n",
       "    <tr>\n",
       "      <th>3</th>\n",
       "      <td>1</td>\n",
       "      <td>0</td>\n",
       "      <td>0</td>\n",
       "      <td>0</td>\n",
       "      <td>45</td>\n",
       "      <td>0</td>\n",
       "      <td>-1</td>\n",
       "      <td>0</td>\n",
       "      <td>1</td>\n",
       "      <td>0</td>\n",
       "      <td>1</td>\n",
       "      <td>1</td>\n",
       "      <td>0</td>\n",
       "      <td>0</td>\n",
       "      <td>1</td>\n",
       "      <td>0</td>\n",
       "      <td>2</td>\n",
       "      <td>42.30</td>\n",
       "      <td>1840.75</td>\n",
       "      <td>0</td>\n",
       "    </tr>\n",
       "    <tr>\n",
       "      <th>4</th>\n",
       "      <td>0</td>\n",
       "      <td>0</td>\n",
       "      <td>0</td>\n",
       "      <td>0</td>\n",
       "      <td>2</td>\n",
       "      <td>1</td>\n",
       "      <td>0</td>\n",
       "      <td>1</td>\n",
       "      <td>0</td>\n",
       "      <td>0</td>\n",
       "      <td>0</td>\n",
       "      <td>0</td>\n",
       "      <td>0</td>\n",
       "      <td>0</td>\n",
       "      <td>0</td>\n",
       "      <td>1</td>\n",
       "      <td>0</td>\n",
       "      <td>70.70</td>\n",
       "      <td>151.65</td>\n",
       "      <td>1</td>\n",
       "    </tr>\n",
       "  </tbody>\n",
       "</table>\n",
       "</div>"
      ],
      "text/plain": [
       "  gender SeniorCitizen Partner Dependents  tenure PhoneService MultipleLines  \\\n",
       "0      0             0       1          0       1            0            -1   \n",
       "1      1             0       0          0      34            1             0   \n",
       "2      1             0       0          0       2            1             0   \n",
       "3      1             0       0          0      45            0            -1   \n",
       "4      0             0       0          0       2            1             0   \n",
       "\n",
       "  InternetService OnlineSecurity OnlineBackup DeviceProtection TechSupport  \\\n",
       "0               0              0            1                0           0   \n",
       "1               0              1            0                1           0   \n",
       "2               0              1            1                0           0   \n",
       "3               0              1            0                1           1   \n",
       "4               1              0            0                0           0   \n",
       "\n",
       "  StreamingTV StreamingMovies Contract PaperlessBilling PaymentMethod  \\\n",
       "0           0               0        0                1             0   \n",
       "1           0               0        1                0             1   \n",
       "2           0               0        0                1             1   \n",
       "3           0               0        1                0             2   \n",
       "4           0               0        0                1             0   \n",
       "\n",
       "   MonthlyCharges  TotalCharges Churn  \n",
       "0           29.85         29.85     0  \n",
       "1           56.95       1889.50     0  \n",
       "2           53.85        108.15     1  \n",
       "3           42.30       1840.75     0  \n",
       "4           70.70        151.65     1  "
      ]
     },
     "execution_count": 21,
     "metadata": {},
     "output_type": "execute_result"
    }
   ],
   "source": [
    "data.head()"
   ]
  },
  {
   "cell_type": "code",
   "execution_count": 22,
   "metadata": {},
   "outputs": [
    {
     "name": "stdout",
     "output_type": "stream",
     "text": [
      "<class 'pandas.core.frame.DataFrame'>\n",
      "Int64Index: 7032 entries, 0 to 7042\n",
      "Data columns (total 20 columns):\n",
      " #   Column            Non-Null Count  Dtype   \n",
      "---  ------            --------------  -----   \n",
      " 0   gender            7032 non-null   category\n",
      " 1   SeniorCitizen     7032 non-null   category\n",
      " 2   Partner           7032 non-null   category\n",
      " 3   Dependents        7032 non-null   category\n",
      " 4   tenure            7032 non-null   int64   \n",
      " 5   PhoneService      7032 non-null   category\n",
      " 6   MultipleLines     7032 non-null   category\n",
      " 7   InternetService   7032 non-null   category\n",
      " 8   OnlineSecurity    7032 non-null   category\n",
      " 9   OnlineBackup      7032 non-null   category\n",
      " 10  DeviceProtection  7032 non-null   category\n",
      " 11  TechSupport       7032 non-null   category\n",
      " 12  StreamingTV       7032 non-null   category\n",
      " 13  StreamingMovies   7032 non-null   category\n",
      " 14  Contract          7032 non-null   category\n",
      " 15  PaperlessBilling  7032 non-null   category\n",
      " 16  PaymentMethod     7032 non-null   category\n",
      " 17  MonthlyCharges    7032 non-null   float64 \n",
      " 18  TotalCharges      7032 non-null   float64 \n",
      " 19  Churn             7032 non-null   category\n",
      "dtypes: category(17), float64(2), int64(1)\n",
      "memory usage: 338.2 KB\n"
     ]
    }
   ],
   "source": [
    "data.info()"
   ]
  },
  {
   "cell_type": "markdown",
   "metadata": {},
   "source": [
    "We have total 19 columns with 7032 rows. Most of the variables are categorical and 3 in numeric."
   ]
  },
  {
   "cell_type": "markdown",
   "metadata": {},
   "source": [
    "### 3. Data analysis & visualisation: \n",
    "[ Score: 10 point ]\n",
    "\n",
    "• Perform detailed statistical analysis on the data.\n",
    "\n",
    "• Perform a detailed univariate, bivariate and multivariate analysis with appropriate detailed comments after each analysis. "
   ]
  },
  {
   "cell_type": "code",
   "execution_count": 23,
   "metadata": {},
   "outputs": [
    {
     "data": {
      "text/html": [
       "<div>\n",
       "<style scoped>\n",
       "    .dataframe tbody tr th:only-of-type {\n",
       "        vertical-align: middle;\n",
       "    }\n",
       "\n",
       "    .dataframe tbody tr th {\n",
       "        vertical-align: top;\n",
       "    }\n",
       "\n",
       "    .dataframe thead th {\n",
       "        text-align: right;\n",
       "    }\n",
       "</style>\n",
       "<table border=\"1\" class=\"dataframe\">\n",
       "  <thead>\n",
       "    <tr style=\"text-align: right;\">\n",
       "      <th></th>\n",
       "      <th>count</th>\n",
       "      <th>unique</th>\n",
       "      <th>top</th>\n",
       "      <th>freq</th>\n",
       "      <th>mean</th>\n",
       "      <th>std</th>\n",
       "      <th>min</th>\n",
       "      <th>25%</th>\n",
       "      <th>50%</th>\n",
       "      <th>75%</th>\n",
       "      <th>max</th>\n",
       "    </tr>\n",
       "  </thead>\n",
       "  <tbody>\n",
       "    <tr>\n",
       "      <th>gender</th>\n",
       "      <td>7032.0</td>\n",
       "      <td>2.0</td>\n",
       "      <td>1.0</td>\n",
       "      <td>3549.0</td>\n",
       "      <td>NaN</td>\n",
       "      <td>NaN</td>\n",
       "      <td>NaN</td>\n",
       "      <td>NaN</td>\n",
       "      <td>NaN</td>\n",
       "      <td>NaN</td>\n",
       "      <td>NaN</td>\n",
       "    </tr>\n",
       "    <tr>\n",
       "      <th>SeniorCitizen</th>\n",
       "      <td>7032.0</td>\n",
       "      <td>2.0</td>\n",
       "      <td>0.0</td>\n",
       "      <td>5890.0</td>\n",
       "      <td>NaN</td>\n",
       "      <td>NaN</td>\n",
       "      <td>NaN</td>\n",
       "      <td>NaN</td>\n",
       "      <td>NaN</td>\n",
       "      <td>NaN</td>\n",
       "      <td>NaN</td>\n",
       "    </tr>\n",
       "    <tr>\n",
       "      <th>Partner</th>\n",
       "      <td>7032.0</td>\n",
       "      <td>2.0</td>\n",
       "      <td>0.0</td>\n",
       "      <td>3639.0</td>\n",
       "      <td>NaN</td>\n",
       "      <td>NaN</td>\n",
       "      <td>NaN</td>\n",
       "      <td>NaN</td>\n",
       "      <td>NaN</td>\n",
       "      <td>NaN</td>\n",
       "      <td>NaN</td>\n",
       "    </tr>\n",
       "    <tr>\n",
       "      <th>Dependents</th>\n",
       "      <td>7032.0</td>\n",
       "      <td>2.0</td>\n",
       "      <td>0.0</td>\n",
       "      <td>4933.0</td>\n",
       "      <td>NaN</td>\n",
       "      <td>NaN</td>\n",
       "      <td>NaN</td>\n",
       "      <td>NaN</td>\n",
       "      <td>NaN</td>\n",
       "      <td>NaN</td>\n",
       "      <td>NaN</td>\n",
       "    </tr>\n",
       "    <tr>\n",
       "      <th>tenure</th>\n",
       "      <td>7032.0</td>\n",
       "      <td>NaN</td>\n",
       "      <td>NaN</td>\n",
       "      <td>NaN</td>\n",
       "      <td>32.421786</td>\n",
       "      <td>24.545260</td>\n",
       "      <td>1.00</td>\n",
       "      <td>9.0000</td>\n",
       "      <td>29.000</td>\n",
       "      <td>55.0000</td>\n",
       "      <td>72.00</td>\n",
       "    </tr>\n",
       "    <tr>\n",
       "      <th>PhoneService</th>\n",
       "      <td>7032.0</td>\n",
       "      <td>2.0</td>\n",
       "      <td>1.0</td>\n",
       "      <td>6352.0</td>\n",
       "      <td>NaN</td>\n",
       "      <td>NaN</td>\n",
       "      <td>NaN</td>\n",
       "      <td>NaN</td>\n",
       "      <td>NaN</td>\n",
       "      <td>NaN</td>\n",
       "      <td>NaN</td>\n",
       "    </tr>\n",
       "    <tr>\n",
       "      <th>MultipleLines</th>\n",
       "      <td>7032.0</td>\n",
       "      <td>3.0</td>\n",
       "      <td>0.0</td>\n",
       "      <td>3385.0</td>\n",
       "      <td>NaN</td>\n",
       "      <td>NaN</td>\n",
       "      <td>NaN</td>\n",
       "      <td>NaN</td>\n",
       "      <td>NaN</td>\n",
       "      <td>NaN</td>\n",
       "      <td>NaN</td>\n",
       "    </tr>\n",
       "    <tr>\n",
       "      <th>InternetService</th>\n",
       "      <td>7032.0</td>\n",
       "      <td>3.0</td>\n",
       "      <td>1.0</td>\n",
       "      <td>3096.0</td>\n",
       "      <td>NaN</td>\n",
       "      <td>NaN</td>\n",
       "      <td>NaN</td>\n",
       "      <td>NaN</td>\n",
       "      <td>NaN</td>\n",
       "      <td>NaN</td>\n",
       "      <td>NaN</td>\n",
       "    </tr>\n",
       "    <tr>\n",
       "      <th>OnlineSecurity</th>\n",
       "      <td>7032.0</td>\n",
       "      <td>3.0</td>\n",
       "      <td>0.0</td>\n",
       "      <td>3497.0</td>\n",
       "      <td>NaN</td>\n",
       "      <td>NaN</td>\n",
       "      <td>NaN</td>\n",
       "      <td>NaN</td>\n",
       "      <td>NaN</td>\n",
       "      <td>NaN</td>\n",
       "      <td>NaN</td>\n",
       "    </tr>\n",
       "    <tr>\n",
       "      <th>OnlineBackup</th>\n",
       "      <td>7032.0</td>\n",
       "      <td>3.0</td>\n",
       "      <td>0.0</td>\n",
       "      <td>3087.0</td>\n",
       "      <td>NaN</td>\n",
       "      <td>NaN</td>\n",
       "      <td>NaN</td>\n",
       "      <td>NaN</td>\n",
       "      <td>NaN</td>\n",
       "      <td>NaN</td>\n",
       "      <td>NaN</td>\n",
       "    </tr>\n",
       "    <tr>\n",
       "      <th>DeviceProtection</th>\n",
       "      <td>7032.0</td>\n",
       "      <td>3.0</td>\n",
       "      <td>0.0</td>\n",
       "      <td>3094.0</td>\n",
       "      <td>NaN</td>\n",
       "      <td>NaN</td>\n",
       "      <td>NaN</td>\n",
       "      <td>NaN</td>\n",
       "      <td>NaN</td>\n",
       "      <td>NaN</td>\n",
       "      <td>NaN</td>\n",
       "    </tr>\n",
       "    <tr>\n",
       "      <th>TechSupport</th>\n",
       "      <td>7032.0</td>\n",
       "      <td>3.0</td>\n",
       "      <td>0.0</td>\n",
       "      <td>3472.0</td>\n",
       "      <td>NaN</td>\n",
       "      <td>NaN</td>\n",
       "      <td>NaN</td>\n",
       "      <td>NaN</td>\n",
       "      <td>NaN</td>\n",
       "      <td>NaN</td>\n",
       "      <td>NaN</td>\n",
       "    </tr>\n",
       "    <tr>\n",
       "      <th>StreamingTV</th>\n",
       "      <td>7032.0</td>\n",
       "      <td>3.0</td>\n",
       "      <td>0.0</td>\n",
       "      <td>2809.0</td>\n",
       "      <td>NaN</td>\n",
       "      <td>NaN</td>\n",
       "      <td>NaN</td>\n",
       "      <td>NaN</td>\n",
       "      <td>NaN</td>\n",
       "      <td>NaN</td>\n",
       "      <td>NaN</td>\n",
       "    </tr>\n",
       "    <tr>\n",
       "      <th>StreamingMovies</th>\n",
       "      <td>7032.0</td>\n",
       "      <td>3.0</td>\n",
       "      <td>0.0</td>\n",
       "      <td>2781.0</td>\n",
       "      <td>NaN</td>\n",
       "      <td>NaN</td>\n",
       "      <td>NaN</td>\n",
       "      <td>NaN</td>\n",
       "      <td>NaN</td>\n",
       "      <td>NaN</td>\n",
       "      <td>NaN</td>\n",
       "    </tr>\n",
       "    <tr>\n",
       "      <th>Contract</th>\n",
       "      <td>7032.0</td>\n",
       "      <td>3.0</td>\n",
       "      <td>0.0</td>\n",
       "      <td>3875.0</td>\n",
       "      <td>NaN</td>\n",
       "      <td>NaN</td>\n",
       "      <td>NaN</td>\n",
       "      <td>NaN</td>\n",
       "      <td>NaN</td>\n",
       "      <td>NaN</td>\n",
       "      <td>NaN</td>\n",
       "    </tr>\n",
       "    <tr>\n",
       "      <th>PaperlessBilling</th>\n",
       "      <td>7032.0</td>\n",
       "      <td>2.0</td>\n",
       "      <td>1.0</td>\n",
       "      <td>4168.0</td>\n",
       "      <td>NaN</td>\n",
       "      <td>NaN</td>\n",
       "      <td>NaN</td>\n",
       "      <td>NaN</td>\n",
       "      <td>NaN</td>\n",
       "      <td>NaN</td>\n",
       "      <td>NaN</td>\n",
       "    </tr>\n",
       "    <tr>\n",
       "      <th>PaymentMethod</th>\n",
       "      <td>7032.0</td>\n",
       "      <td>4.0</td>\n",
       "      <td>0.0</td>\n",
       "      <td>2365.0</td>\n",
       "      <td>NaN</td>\n",
       "      <td>NaN</td>\n",
       "      <td>NaN</td>\n",
       "      <td>NaN</td>\n",
       "      <td>NaN</td>\n",
       "      <td>NaN</td>\n",
       "      <td>NaN</td>\n",
       "    </tr>\n",
       "    <tr>\n",
       "      <th>MonthlyCharges</th>\n",
       "      <td>7032.0</td>\n",
       "      <td>NaN</td>\n",
       "      <td>NaN</td>\n",
       "      <td>NaN</td>\n",
       "      <td>64.798208</td>\n",
       "      <td>30.085974</td>\n",
       "      <td>18.25</td>\n",
       "      <td>35.5875</td>\n",
       "      <td>70.350</td>\n",
       "      <td>89.8625</td>\n",
       "      <td>118.75</td>\n",
       "    </tr>\n",
       "    <tr>\n",
       "      <th>TotalCharges</th>\n",
       "      <td>7032.0</td>\n",
       "      <td>NaN</td>\n",
       "      <td>NaN</td>\n",
       "      <td>NaN</td>\n",
       "      <td>2283.300441</td>\n",
       "      <td>2266.771362</td>\n",
       "      <td>18.80</td>\n",
       "      <td>401.4500</td>\n",
       "      <td>1397.475</td>\n",
       "      <td>3794.7375</td>\n",
       "      <td>8684.80</td>\n",
       "    </tr>\n",
       "    <tr>\n",
       "      <th>Churn</th>\n",
       "      <td>7032.0</td>\n",
       "      <td>2.0</td>\n",
       "      <td>0.0</td>\n",
       "      <td>5163.0</td>\n",
       "      <td>NaN</td>\n",
       "      <td>NaN</td>\n",
       "      <td>NaN</td>\n",
       "      <td>NaN</td>\n",
       "      <td>NaN</td>\n",
       "      <td>NaN</td>\n",
       "      <td>NaN</td>\n",
       "    </tr>\n",
       "  </tbody>\n",
       "</table>\n",
       "</div>"
      ],
      "text/plain": [
       "                   count  unique  top    freq         mean          std  \\\n",
       "gender            7032.0     2.0  1.0  3549.0          NaN          NaN   \n",
       "SeniorCitizen     7032.0     2.0  0.0  5890.0          NaN          NaN   \n",
       "Partner           7032.0     2.0  0.0  3639.0          NaN          NaN   \n",
       "Dependents        7032.0     2.0  0.0  4933.0          NaN          NaN   \n",
       "tenure            7032.0     NaN  NaN     NaN    32.421786    24.545260   \n",
       "PhoneService      7032.0     2.0  1.0  6352.0          NaN          NaN   \n",
       "MultipleLines     7032.0     3.0  0.0  3385.0          NaN          NaN   \n",
       "InternetService   7032.0     3.0  1.0  3096.0          NaN          NaN   \n",
       "OnlineSecurity    7032.0     3.0  0.0  3497.0          NaN          NaN   \n",
       "OnlineBackup      7032.0     3.0  0.0  3087.0          NaN          NaN   \n",
       "DeviceProtection  7032.0     3.0  0.0  3094.0          NaN          NaN   \n",
       "TechSupport       7032.0     3.0  0.0  3472.0          NaN          NaN   \n",
       "StreamingTV       7032.0     3.0  0.0  2809.0          NaN          NaN   \n",
       "StreamingMovies   7032.0     3.0  0.0  2781.0          NaN          NaN   \n",
       "Contract          7032.0     3.0  0.0  3875.0          NaN          NaN   \n",
       "PaperlessBilling  7032.0     2.0  1.0  4168.0          NaN          NaN   \n",
       "PaymentMethod     7032.0     4.0  0.0  2365.0          NaN          NaN   \n",
       "MonthlyCharges    7032.0     NaN  NaN     NaN    64.798208    30.085974   \n",
       "TotalCharges      7032.0     NaN  NaN     NaN  2283.300441  2266.771362   \n",
       "Churn             7032.0     2.0  0.0  5163.0          NaN          NaN   \n",
       "\n",
       "                    min       25%       50%        75%      max  \n",
       "gender              NaN       NaN       NaN        NaN      NaN  \n",
       "SeniorCitizen       NaN       NaN       NaN        NaN      NaN  \n",
       "Partner             NaN       NaN       NaN        NaN      NaN  \n",
       "Dependents          NaN       NaN       NaN        NaN      NaN  \n",
       "tenure             1.00    9.0000    29.000    55.0000    72.00  \n",
       "PhoneService        NaN       NaN       NaN        NaN      NaN  \n",
       "MultipleLines       NaN       NaN       NaN        NaN      NaN  \n",
       "InternetService     NaN       NaN       NaN        NaN      NaN  \n",
       "OnlineSecurity      NaN       NaN       NaN        NaN      NaN  \n",
       "OnlineBackup        NaN       NaN       NaN        NaN      NaN  \n",
       "DeviceProtection    NaN       NaN       NaN        NaN      NaN  \n",
       "TechSupport         NaN       NaN       NaN        NaN      NaN  \n",
       "StreamingTV         NaN       NaN       NaN        NaN      NaN  \n",
       "StreamingMovies     NaN       NaN       NaN        NaN      NaN  \n",
       "Contract            NaN       NaN       NaN        NaN      NaN  \n",
       "PaperlessBilling    NaN       NaN       NaN        NaN      NaN  \n",
       "PaymentMethod       NaN       NaN       NaN        NaN      NaN  \n",
       "MonthlyCharges    18.25   35.5875    70.350    89.8625   118.75  \n",
       "TotalCharges      18.80  401.4500  1397.475  3794.7375  8684.80  \n",
       "Churn               NaN       NaN       NaN        NaN      NaN  "
      ]
     },
     "execution_count": 23,
     "metadata": {},
     "output_type": "execute_result"
    }
   ],
   "source": [
    "data.describe(include = 'all').T"
   ]
  },
  {
   "cell_type": "markdown",
   "metadata": {},
   "source": [
    "**Numeric variables:**\n",
    "\n",
    "It seems tenure and MonthlyCharges are normally distributed. \n",
    "\n",
    "But TotalCharges has some outliers, 75% is 3794 and max is 8684.\n",
    "\n",
    "**Catgorical variables:**\n",
    "\n",
    "SeniorCitizen, Dependents, No PhoneService data is less compared to Non-SeniorCitizen, Non-Dependents, with PhoneService.\n",
    "\n",
    "Not able to analyse categorical variables with unique value more than 2. We will check that below.\n",
    "\n",
    "Non-Churned data is more than Churned data. Approx. 5000 data is for non-Churned and 2000 data is for Churned."
   ]
  },
  {
   "cell_type": "markdown",
   "metadata": {},
   "source": [
    "### Univariate Analysis"
   ]
  },
  {
   "cell_type": "code",
   "execution_count": 24,
   "metadata": {},
   "outputs": [
    {
     "data": {
      "image/png": "[encoded data removed]",
      "text/plain": [
       "<Figure size 1152x360 with 3 Axes>"
      ]
     },
     "metadata": {
      "needs_background": "light"
     },
     "output_type": "display_data"
    }
   ],
   "source": [
    "# Let us draw box plot for continuous variable\n",
    "\n",
    "plt.figure(figsize = (16,5))\n",
    "plt.subplot(1, 3, 1)\n",
    "sns.boxplot(data = data, x = 'tenure', color = 'green');\n",
    "\n",
    "plt.subplot(1, 3, 2)\n",
    "sns.boxplot(data = data, x = 'MonthlyCharges', color = 'red');\n",
    "\n",
    "plt.subplot(1, 3, 3)\n",
    "sns.boxplot(data = data, x = 'TotalCharges', color = 'blue');"
   ]
  },
  {
   "cell_type": "markdown",
   "metadata": {},
   "source": [
    "From above box plot we can say that there are no outliers present but the data for TotalCharges is right tailed. \n",
    "\n",
    "For TotalCharges 75% of the data is below 4000. We also saw this in statistical analysis. Let us check distributions by histogram to get more clarity."
   ]
  },
  {
   "cell_type": "code",
   "execution_count": 25,
   "metadata": {},
   "outputs": [
    {
     "data": {
      "image/png": "[encoded data removed]",
      "text/plain": [
       "<Figure size 1152x360 with 3 Axes>"
      ]
     },
     "metadata": {
      "needs_background": "light"
     },
     "output_type": "display_data"
    }
   ],
   "source": [
    "plt.figure(figsize = (16,5))\n",
    "plt.subplot(1, 3, 1)\n",
    "sns.histplot(data = data, x = 'tenure', color = 'green', kde = True);\n",
    "\n",
    "plt.subplot(1, 3, 2)\n",
    "sns.histplot(data = data, x = 'MonthlyCharges', color = 'red', kde = True);\n",
    "\n",
    "plt.subplot(1, 3, 3)\n",
    "sns.histplot(data = data, x = 'TotalCharges', color = 'blue', kde = True);"
   ]
  },
  {
   "cell_type": "markdown",
   "metadata": {},
   "source": [
    "The data is not normally distributed.\n",
    "\n",
    "tenure: Max count is present at lower and max tenure. Lower count towords middle of tenure.\n",
    "\n",
    "MonthlyCharges: Max count present below 30 and increased after 40.\n",
    "\n",
    "TotalCharges: Count for TotalCharges are tapering towards right. Max count is at zero and lower count is above 8000."
   ]
  },
  {
   "cell_type": "code",
   "execution_count": 26,
   "metadata": {},
   "outputs": [
    {
     "data": {
      "image/png": "[encoded data removed]",
      "text/plain": [
       "<Figure size 1440x1008 with 16 Axes>"
      ]
     },
     "metadata": {
      "needs_background": "light"
     },
     "output_type": "display_data"
    }
   ],
   "source": [
    "# Plot countplot to get overview of all the categorical variables\n",
    "\n",
    "plt.figure(figsize=(20,14))\n",
    "i=1\n",
    "\n",
    "for column_cat in data.columns:\n",
    "    if (str(data[column_cat].dtype) == 'category'):\n",
    "        plt.subplot(4, 4, i)\n",
    "        sns.countplot(x = column_cat, data = data, palette = 'summer');\n",
    "        i += 1\n",
    "        if i > 16:\n",
    "            break"
   ]
  },
  {
   "cell_type": "markdown",
   "metadata": {},
   "source": [
    "**gender, Partner, and MultipleLines:**\n",
    "    Almost equal distribution of data for these attributes\n",
    "\n",
    "**SeniorCitizen, Dependents and PhoneService:** \n",
    "    There is a significant difference between data for these variables.\n",
    "\n",
    "**InternetService:**\n",
    "    Not equally distributed. There are customers who do not have any internet service.\n",
    "\n",
    "**OnlineSecurity, OnlineBackup, DeviceProtection, TechSupport, StreamingTV, StreamingMovies:**\n",
    "    These attributes depend on internet service. So customers who do not have internet service we dont have data for it. \n",
    "    \n",
    "   From these StreamingTV and StreamingMovies have equal distribution in yes and no. For other attributes count of no is greater than count of yes.\n",
    "\n",
    "**Contract:** \n",
    "    Monthly contracts are significantly greater than the other two.\n",
    "\n",
    "**PaperlessBilling:** \n",
    "    Most of the customers has PaperlessBilling.\n",
    "\n",
    "**PaymentMethod:**\n",
    "    Electronic check is greater than the other payment methods"
   ]
  },
  {
   "cell_type": "markdown",
   "metadata": {},
   "source": [
    "### Bivariate Analysis"
   ]
  },
  {
   "cell_type": "code",
   "execution_count": 27,
   "metadata": {
    "scrolled": false
   },
   "outputs": [
    {
     "data": {
      "image/png": "[encoded data removed]",
      "text/plain": [
       "<Figure size 1440x1080 with 16 Axes>"
      ]
     },
     "metadata": {
      "needs_background": "light"
     },
     "output_type": "display_data"
    }
   ],
   "source": [
    "# Let us analyse the data using countplot.\n",
    "\n",
    "plt.figure(figsize = (20,15))\n",
    "i = 1\n",
    "\n",
    "for column_cat in data.columns:\n",
    "    if (str(data[column_cat].dtype) == 'category'):\n",
    "        plt.subplot(4, 4, i)\n",
    "        sns.countplot(x = column_cat, data = data, hue = 'Churn', palette = 'nipy_spectral', saturation = 0.9);\n",
    "        i += 1\n",
    "        if i > 16:\n",
    "            break"
   ]
  },
  {
   "cell_type": "markdown",
   "metadata": {},
   "source": [
    "**Maximum churned customers are as below:**\n",
    "\n",
    "Chruning of SeniorCitizen is more\n",
    "\n",
    "InternetService having FiberOptic. We will analyse this in detail.\n",
    "\n",
    "Customers with Month-to-month Contract\n",
    "\n",
    "PaymentMethod with Electronic Check\n",
    "\n",
    "It is important to have InternetService with OnlineSecurity, OnlineBackup, DeviceProtection, TechSupport services.\n",
    "\n",
    "**Less churning of customers are as below:**\n",
    "\n",
    "Customers with No Internet Service\n",
    "\n",
    "Helding One year or Two year contract\n",
    "\n",
    "Customers who are dependents\n",
    "\n",
    "with OnlineSecurity, TechSupport\n",
    "\n",
    "with No PaperlessBilling\n",
    "\n",
    "**We can use these pointers to make our strategy to control churning of customers**"
   ]
  },
  {
   "cell_type": "code",
   "execution_count": 28,
   "metadata": {},
   "outputs": [
    {
     "data": {
      "image/png": "[encoded data removed]",
      "text/plain": [
       "<Figure size 1152x360 with 3 Axes>"
      ]
     },
     "metadata": {
      "needs_background": "light"
     },
     "output_type": "display_data"
    }
   ],
   "source": [
    "plt.figure(figsize = (16,5))\n",
    "\n",
    "plt.subplot(1, 3, 1)\n",
    "sns.boxplot(data = data, y= 'tenure', x = 'Churn', palette = 'nipy_spectral', saturation = 0.9);\n",
    "\n",
    "plt.subplot(1, 3, 2)\n",
    "sns.boxplot(data = data, y = 'MonthlyCharges', x = 'Churn', palette = 'nipy_spectral', saturation = 0.9);\n",
    "\n",
    "plt.subplot(1, 3, 3)\n",
    "sns.boxplot(data = data, y = 'TotalCharges', x = 'Churn', palette = 'nipy_spectral', saturation = 0.9);"
   ]
  },
  {
   "cell_type": "markdown",
   "metadata": {},
   "source": [
    "tenure: Most of the Churned customers are having less tenure. There are few outliers as well with tenure more than 65. We will check this in detail.\n",
    "\n",
    "MonthlyCharges: Most of the Churned customers have more MonthlyCharges. 50% of customers who churned are with MonthlyCharges above 80.\n",
    "\n",
    "TotalCharges: Less the TotalCharges, more the churning of the customers. It also has outliers above 6000."
   ]
  },
  {
   "cell_type": "code",
   "execution_count": 29,
   "metadata": {},
   "outputs": [
    {
     "data": {
      "image/png": "[encoded data removed]",
      "text/plain": [
       "<Figure size 1152x576 with 1 Axes>"
      ]
     },
     "metadata": {
      "needs_background": "light"
     },
     "output_type": "display_data"
    }
   ],
   "source": [
    "# Want to understand if tenure has any relation with churn customers\n",
    "\n",
    "plt.figure(figsize = (16,8))\n",
    "sns.histplot(data = data, x = 'tenure', hue = 'Churn', bins = 38);"
   ]
  },
  {
   "cell_type": "markdown",
   "metadata": {},
   "source": [
    "Customers with tenure less than 2 is more churned than non-churned. Churning reduces with the tenure.\n",
    "\n",
    "From statistics we see that 25% of the customers are below tenure of 10. and before tenure of 4, churned customers are more than non-churned. \n",
    "\n",
    "We need to focus on these customers and identify what are the cause of churning.\n",
    "\n",
    "We will see it in multivariate analysis."
   ]
  },
  {
   "cell_type": "code",
   "execution_count": 30,
   "metadata": {},
   "outputs": [
    {
     "data": {
      "image/png": "[encoded data removed]",
      "text/plain": [
       "<Figure size 474.375x360 with 1 Axes>"
      ]
     },
     "metadata": {
      "needs_background": "light"
     },
     "output_type": "display_data"
    }
   ],
   "source": [
    "# Let us check anlysis of InternetService\n",
    "\n",
    "sns.catplot(x = 'InternetService', data = data, hue = 'Churn', kind = 'count', palette = 'Pastel2', aspect = 1.2);"
   ]
  },
  {
   "cell_type": "markdown",
   "metadata": {},
   "source": [
    "Most of the cusomers churned with InternetService of Fiber optic.\n",
    "\n",
    "Half of the customers using Fiber optic has churned and half are not. Its a big number so need to see if there is any problem with that InternetService. So that we can retain maximum customers."
   ]
  },
  {
   "cell_type": "code",
   "execution_count": 31,
   "metadata": {},
   "outputs": [
    {
     "data": {
      "text/plain": [
       "(3096, 20)"
      ]
     },
     "execution_count": 31,
     "metadata": {},
     "output_type": "execute_result"
    }
   ],
   "source": [
    "# Let us evaluate more about customers having internet service as Fiber optic.\n",
    "\n",
    "data_c = data.copy()\n",
    "data_c = data_c[data_c['InternetService'] == 1] # 1 is for Fiber optic\n",
    "data_c.shape"
   ]
  },
  {
   "cell_type": "code",
   "execution_count": 32,
   "metadata": {},
   "outputs": [
    {
     "data": {
      "text/plain": [
       "0    1799\n",
       "1    1297\n",
       "Name: Churn, dtype: int64"
      ]
     },
     "execution_count": 32,
     "metadata": {},
     "output_type": "execute_result"
    }
   ],
   "source": [
    "data_c.Churn.value_counts()"
   ]
  },
  {
   "cell_type": "markdown",
   "metadata": {},
   "source": [
    "Almost half of the customers has internet service as Fiber optic. Almost 20% of the total data are churned who uses Fiber optic.\n",
    "\n",
    "Let us check if there is any particular reason for churning of customers with Fiber optic."
   ]
  },
  {
   "cell_type": "code",
   "execution_count": 33,
   "metadata": {},
   "outputs": [
    {
     "data": {
      "image/png": "[encoded data removed]",
      "text/plain": [
       "<Figure size 1440x1080 with 16 Axes>"
      ]
     },
     "metadata": {
      "needs_background": "light"
     },
     "output_type": "display_data"
    }
   ],
   "source": [
    "plt.figure(figsize = (20,15))\n",
    "i=1\n",
    "\n",
    "for column_cat in data_c.columns:\n",
    "    if (str(data_c[column_cat].dtype) == 'category'):\n",
    "        plt.subplot(4, 4, i)\n",
    "        sns.countplot(x = column_cat, data = data_c, hue = 'Churn', palette = 'Pastel2');\n",
    "        i += 1\n",
    "        if i > 16:\n",
    "            break"
   ]
  },
  {
   "cell_type": "markdown",
   "metadata": {},
   "source": [
    "This analysis is for customers who are opted for InternetService of Fiber optic:\n",
    "\n",
    "Partner are churned less than No Partner.\n",
    "\n",
    "Customers who are not opted for OnlineSecurity, OnlineBackup, DeviceProtection, TechSupport services are more prone to churning than who have these services.\n",
    "\n",
    "PaymentMethod of Electronic chek are churned more than the other methods.\n",
    "\n",
    "We can focus on these points to reduce churning."
   ]
  },
  {
   "cell_type": "code",
   "execution_count": 34,
   "metadata": {},
   "outputs": [
    {
     "data": {
      "image/png": "[encoded data removed]",
      "text/plain": [
       "<Figure size 1152x360 with 3 Axes>"
      ]
     },
     "metadata": {
      "needs_background": "light"
     },
     "output_type": "display_data"
    }
   ],
   "source": [
    "plt.figure(figsize=(16,5))\n",
    "\n",
    "plt.subplot(1, 3, 1)\n",
    "sns.boxplot(data = data_c, y = 'tenure', x = 'Churn', palette = 'Pastel2', saturation = 0.9);\n",
    "\n",
    "plt.subplot(1, 3, 2)\n",
    "sns.boxplot(data = data_c, y = 'MonthlyCharges', x = 'Churn', palette = 'Pastel2', saturation = 0.9);\n",
    "\n",
    "plt.subplot(1, 3, 3)\n",
    "sns.boxplot(data = data_c, y = 'TotalCharges', x = 'Churn', palette = 'Pastel2', saturation = 0.9);"
   ]
  },
  {
   "cell_type": "markdown",
   "metadata": {},
   "source": [
    "Tenure: Churning is more for less tenure and it is less for tenure.\n",
    "\n",
    "MonthlyCharges: MonthlyCharges is not the reason for churning of customers. We can relate this to customers who opted for more services for them MonthlyCharges are more and churning is less.\n",
    "\n",
    "**This was about customers who are using InternetService as Fiber optic.**"
   ]
  },
  {
   "cell_type": "markdown",
   "metadata": {},
   "source": [
    "### Multivariate Analysis"
   ]
  },
  {
   "cell_type": "code",
   "execution_count": 35,
   "metadata": {},
   "outputs": [
    {
     "data": {
      "image/png": "[encoded data removed]",
      "text/plain": [
       "<Figure size 432x432 with 3 Axes>"
      ]
     },
     "metadata": {
      "needs_background": "light"
     },
     "output_type": "display_data"
    }
   ],
   "source": [
    "sns.jointplot(data = data, x = 'tenure', y = 'MonthlyCharges', hue = 'Churn', kind = 'kde');"
   ]
  },
  {
   "cell_type": "markdown",
   "metadata": {},
   "source": [
    "Customers with less tenure but high MonthlyCharges are churned more.\n",
    "\n",
    "Also customers with less tenure and less MonthlyCharges are churned less.\n",
    "\n",
    "Less MonthlyCharges customers are tend to be not churned. As tenure increases there are less chances of customer getting churned."
   ]
  },
  {
   "cell_type": "code",
   "execution_count": 36,
   "metadata": {},
   "outputs": [
    {
     "data": {
      "image/png": "[encoded data removed]",
      "text/plain": [
       "<Figure size 1440x1080 with 16 Axes>"
      ]
     },
     "metadata": {
      "needs_background": "light"
     },
     "output_type": "display_data"
    }
   ],
   "source": [
    "# Let us explore more about MonthlyCharges.\n",
    "\n",
    "plt.figure(figsize = (20,15))\n",
    "i=1\n",
    "\n",
    "for column_cat in data.columns:\n",
    "    if (str(data[column_cat].dtype) == 'category'):\n",
    "        plt.subplot(4, 4, i)\n",
    "        sns.boxplot(x = column_cat, y = 'MonthlyCharges', data = data, hue = 'Churn', \n",
    "                    palette = 'Oranges', saturation = 0.9);\n",
    "        i += 1\n",
    "        if i > 16:\n",
    "            break"
   ]
  },
  {
   "cell_type": "markdown",
   "metadata": {},
   "source": [
    "For InternetService and No PhoneService MonthlyCharges are inversely proportional to Churn.\n",
    "\n",
    "It seems MonthlyCharges does not affect SeniorCitizen.\n",
    "\n",
    "For all the other variables more the MonthlyCharges the churning is more."
   ]
  },
  {
   "cell_type": "markdown",
   "metadata": {},
   "source": [
    "**From this Data analysis & visualisation we came to know few pointers which we will be able to use to retain the customers.**"
   ]
  },
  {
   "cell_type": "markdown",
   "metadata": {},
   "source": [
    "### 4. Data pre-processing: \n",
    "[ Score: 5 point ]\n",
    "\n",
    "• Segregate predictors vs target attributes\n",
    "\n",
    "• Check for target balancing and fix it if found imbalanced.\n",
    "\n",
    "• Perform train-test split.\n",
    "\n",
    "• Check if the train and test data have similar statistical characteristics when compared with original data"
   ]
  },
  {
   "cell_type": "code",
   "execution_count": 37,
   "metadata": {},
   "outputs": [],
   "source": [
    "# Target is Churn column. Separate it.\n",
    "\n",
    "data1 = data.copy()\n",
    "\n",
    "y = data1.pop('Churn')\n",
    "X = data1"
   ]
  },
  {
   "cell_type": "code",
   "execution_count": 38,
   "metadata": {},
   "outputs": [
    {
     "data": {
      "text/html": [
       "<div>\n",
       "<style scoped>\n",
       "    .dataframe tbody tr th:only-of-type {\n",
       "        vertical-align: middle;\n",
       "    }\n",
       "\n",
       "    .dataframe tbody tr th {\n",
       "        vertical-align: top;\n",
       "    }\n",
       "\n",
       "    .dataframe thead th {\n",
       "        text-align: right;\n",
       "    }\n",
       "</style>\n",
       "<table border=\"1\" class=\"dataframe\">\n",
       "  <thead>\n",
       "    <tr style=\"text-align: right;\">\n",
       "      <th></th>\n",
       "      <th>Churn</th>\n",
       "    </tr>\n",
       "  </thead>\n",
       "  <tbody>\n",
       "    <tr>\n",
       "      <th>0</th>\n",
       "      <td>5163</td>\n",
       "    </tr>\n",
       "    <tr>\n",
       "      <th>1</th>\n",
       "      <td>1869</td>\n",
       "    </tr>\n",
       "  </tbody>\n",
       "</table>\n",
       "</div>"
      ],
      "text/plain": [
       "   Churn\n",
       "0   5163\n",
       "1   1869"
      ]
     },
     "execution_count": 38,
     "metadata": {},
     "output_type": "execute_result"
    }
   ],
   "source": [
    "y.value_counts().to_frame()"
   ]
  },
  {
   "cell_type": "markdown",
   "metadata": {},
   "source": [
    "Target data is imbalanced. So we will fix it after splitting of the data."
   ]
  },
  {
   "cell_type": "code",
   "execution_count": 39,
   "metadata": {},
   "outputs": [],
   "source": [
    "# Split data into 70-30.\n",
    "\n",
    "from sklearn.model_selection import train_test_split\n",
    "X_train, X_test, y_train, y_test = train_test_split(X, y, test_size = 0.3, random_state = 55)"
   ]
  },
  {
   "cell_type": "code",
   "execution_count": 40,
   "metadata": {},
   "outputs": [
    {
     "name": "stdout",
     "output_type": "stream",
     "text": [
      "Before SMOTE, count of label 1 :1334\n",
      "Before SMOTE, count of label 0 :3588\n",
      "\n",
      "After SMOTE, count of label 1 :3588\n",
      "After SMOTE, count of label 0 :3588\n"
     ]
    }
   ],
   "source": [
    "# Let us use SMOTE to balance target data and regularize it.\n",
    "\n",
    "from imblearn.over_sampling import SMOTE\n",
    "from imblearn.over_sampling import SMOTENC\n",
    "\n",
    "print(f'Before SMOTE, count of label 1 :{sum(y_train == 1)}')\n",
    "print(f'Before SMOTE, count of label 0 :{sum(y_train == 0)}\\n')\n",
    "\n",
    "sm = SMOTENC (categorical_features= [0,1,2,3,5,6,7,8,9,10,11,12,13,14,15,16], random_state= 15)\n",
    "\n",
    "# Using SMOTE on train data\n",
    "X_trainR, y_trainR = sm.fit_sample(X_train, y_train)\n",
    "\n",
    "print(f'After SMOTE, count of label 1 :{sum(y_trainR == 1)}')\n",
    "print(f'After SMOTE, count of label 0 :{sum(y_trainR == 0)}')\n"
   ]
  },
  {
   "cell_type": "code",
   "execution_count": 41,
   "metadata": {},
   "outputs": [
    {
     "data": {
      "text/html": [
       "<div>\n",
       "<style scoped>\n",
       "    .dataframe tbody tr th:only-of-type {\n",
       "        vertical-align: middle;\n",
       "    }\n",
       "\n",
       "    .dataframe tbody tr th {\n",
       "        vertical-align: top;\n",
       "    }\n",
       "\n",
       "    .dataframe thead th {\n",
       "        text-align: right;\n",
       "    }\n",
       "</style>\n",
       "<table border=\"1\" class=\"dataframe\">\n",
       "  <thead>\n",
       "    <tr style=\"text-align: right;\">\n",
       "      <th></th>\n",
       "      <th>count</th>\n",
       "      <th>mean</th>\n",
       "      <th>std</th>\n",
       "      <th>min</th>\n",
       "      <th>25%</th>\n",
       "      <th>50%</th>\n",
       "      <th>75%</th>\n",
       "      <th>max</th>\n",
       "    </tr>\n",
       "  </thead>\n",
       "  <tbody>\n",
       "    <tr>\n",
       "      <th>tenure</th>\n",
       "      <td>7032.0</td>\n",
       "      <td>32.421786</td>\n",
       "      <td>24.545260</td>\n",
       "      <td>1.00</td>\n",
       "      <td>9.0000</td>\n",
       "      <td>29.000</td>\n",
       "      <td>55.0000</td>\n",
       "      <td>72.00</td>\n",
       "    </tr>\n",
       "    <tr>\n",
       "      <th>MonthlyCharges</th>\n",
       "      <td>7032.0</td>\n",
       "      <td>64.798208</td>\n",
       "      <td>30.085974</td>\n",
       "      <td>18.25</td>\n",
       "      <td>35.5875</td>\n",
       "      <td>70.350</td>\n",
       "      <td>89.8625</td>\n",
       "      <td>118.75</td>\n",
       "    </tr>\n",
       "    <tr>\n",
       "      <th>TotalCharges</th>\n",
       "      <td>7032.0</td>\n",
       "      <td>2283.300441</td>\n",
       "      <td>2266.771362</td>\n",
       "      <td>18.80</td>\n",
       "      <td>401.4500</td>\n",
       "      <td>1397.475</td>\n",
       "      <td>3794.7375</td>\n",
       "      <td>8684.80</td>\n",
       "    </tr>\n",
       "  </tbody>\n",
       "</table>\n",
       "</div>"
      ],
      "text/plain": [
       "                 count         mean          std    min       25%       50%  \\\n",
       "tenure          7032.0    32.421786    24.545260   1.00    9.0000    29.000   \n",
       "MonthlyCharges  7032.0    64.798208    30.085974  18.25   35.5875    70.350   \n",
       "TotalCharges    7032.0  2283.300441  2266.771362  18.80  401.4500  1397.475   \n",
       "\n",
       "                      75%      max  \n",
       "tenure            55.0000    72.00  \n",
       "MonthlyCharges    89.8625   118.75  \n",
       "TotalCharges    3794.7375  8684.80  "
      ]
     },
     "execution_count": 41,
     "metadata": {},
     "output_type": "execute_result"
    }
   ],
   "source": [
    "# Checking continuous variable split statistical characteristics.\n",
    "# Comparing original data with X_trainR and X_test which we are going to use.\n",
    "# There is going to be difference in split between train data and original data as we have balanced the data after split.\n",
    "\n",
    "data.describe().T"
   ]
  },
  {
   "cell_type": "code",
   "execution_count": 42,
   "metadata": {},
   "outputs": [
    {
     "data": {
      "text/html": [
       "<div>\n",
       "<style scoped>\n",
       "    .dataframe tbody tr th:only-of-type {\n",
       "        vertical-align: middle;\n",
       "    }\n",
       "\n",
       "    .dataframe tbody tr th {\n",
       "        vertical-align: top;\n",
       "    }\n",
       "\n",
       "    .dataframe thead th {\n",
       "        text-align: right;\n",
       "    }\n",
       "</style>\n",
       "<table border=\"1\" class=\"dataframe\">\n",
       "  <thead>\n",
       "    <tr style=\"text-align: right;\">\n",
       "      <th></th>\n",
       "      <th>count</th>\n",
       "      <th>mean</th>\n",
       "      <th>std</th>\n",
       "      <th>min</th>\n",
       "      <th>25%</th>\n",
       "      <th>50%</th>\n",
       "      <th>75%</th>\n",
       "      <th>max</th>\n",
       "    </tr>\n",
       "  </thead>\n",
       "  <tbody>\n",
       "    <tr>\n",
       "      <th>tenure</th>\n",
       "      <td>7176.0</td>\n",
       "      <td>27.280379</td>\n",
       "      <td>23.940373</td>\n",
       "      <td>1.00</td>\n",
       "      <td>5.000000</td>\n",
       "      <td>20.000000</td>\n",
       "      <td>48.000000</td>\n",
       "      <td>72.00</td>\n",
       "    </tr>\n",
       "    <tr>\n",
       "      <th>MonthlyCharges</th>\n",
       "      <td>7176.0</td>\n",
       "      <td>67.795628</td>\n",
       "      <td>28.535191</td>\n",
       "      <td>18.25</td>\n",
       "      <td>45.784574</td>\n",
       "      <td>74.886029</td>\n",
       "      <td>90.450000</td>\n",
       "      <td>118.75</td>\n",
       "    </tr>\n",
       "    <tr>\n",
       "      <th>TotalCharges</th>\n",
       "      <td>7176.0</td>\n",
       "      <td>2014.697902</td>\n",
       "      <td>2170.778980</td>\n",
       "      <td>18.90</td>\n",
       "      <td>259.700000</td>\n",
       "      <td>1130.850000</td>\n",
       "      <td>3222.427514</td>\n",
       "      <td>8672.45</td>\n",
       "    </tr>\n",
       "  </tbody>\n",
       "</table>\n",
       "</div>"
      ],
      "text/plain": [
       "                 count         mean          std    min         25%  \\\n",
       "tenure          7176.0    27.280379    23.940373   1.00    5.000000   \n",
       "MonthlyCharges  7176.0    67.795628    28.535191  18.25   45.784574   \n",
       "TotalCharges    7176.0  2014.697902  2170.778980  18.90  259.700000   \n",
       "\n",
       "                        50%          75%      max  \n",
       "tenure            20.000000    48.000000    72.00  \n",
       "MonthlyCharges    74.886029    90.450000   118.75  \n",
       "TotalCharges    1130.850000  3222.427514  8672.45  "
      ]
     },
     "execution_count": 42,
     "metadata": {},
     "output_type": "execute_result"
    }
   ],
   "source": [
    "X_trainR.describe().T"
   ]
  },
  {
   "cell_type": "code",
   "execution_count": 43,
   "metadata": {},
   "outputs": [
    {
     "data": {
      "text/html": [
       "<div>\n",
       "<style scoped>\n",
       "    .dataframe tbody tr th:only-of-type {\n",
       "        vertical-align: middle;\n",
       "    }\n",
       "\n",
       "    .dataframe tbody tr th {\n",
       "        vertical-align: top;\n",
       "    }\n",
       "\n",
       "    .dataframe thead th {\n",
       "        text-align: right;\n",
       "    }\n",
       "</style>\n",
       "<table border=\"1\" class=\"dataframe\">\n",
       "  <thead>\n",
       "    <tr style=\"text-align: right;\">\n",
       "      <th></th>\n",
       "      <th>count</th>\n",
       "      <th>mean</th>\n",
       "      <th>std</th>\n",
       "      <th>min</th>\n",
       "      <th>25%</th>\n",
       "      <th>50%</th>\n",
       "      <th>75%</th>\n",
       "      <th>max</th>\n",
       "    </tr>\n",
       "  </thead>\n",
       "  <tbody>\n",
       "    <tr>\n",
       "      <th>tenure</th>\n",
       "      <td>2110.0</td>\n",
       "      <td>33.089573</td>\n",
       "      <td>24.665809</td>\n",
       "      <td>1.00</td>\n",
       "      <td>10.000</td>\n",
       "      <td>30.000</td>\n",
       "      <td>57.0000</td>\n",
       "      <td>72.0</td>\n",
       "    </tr>\n",
       "    <tr>\n",
       "      <th>MonthlyCharges</th>\n",
       "      <td>2110.0</td>\n",
       "      <td>65.011611</td>\n",
       "      <td>30.382678</td>\n",
       "      <td>18.55</td>\n",
       "      <td>35.500</td>\n",
       "      <td>70.275</td>\n",
       "      <td>90.2375</td>\n",
       "      <td>118.2</td>\n",
       "    </tr>\n",
       "    <tr>\n",
       "      <th>TotalCharges</th>\n",
       "      <td>2110.0</td>\n",
       "      <td>2319.620213</td>\n",
       "      <td>2280.788627</td>\n",
       "      <td>18.80</td>\n",
       "      <td>413.675</td>\n",
       "      <td>1434.200</td>\n",
       "      <td>3776.0000</td>\n",
       "      <td>8684.8</td>\n",
       "    </tr>\n",
       "  </tbody>\n",
       "</table>\n",
       "</div>"
      ],
      "text/plain": [
       "                 count         mean          std    min      25%       50%  \\\n",
       "tenure          2110.0    33.089573    24.665809   1.00   10.000    30.000   \n",
       "MonthlyCharges  2110.0    65.011611    30.382678  18.55   35.500    70.275   \n",
       "TotalCharges    2110.0  2319.620213  2280.788627  18.80  413.675  1434.200   \n",
       "\n",
       "                      75%     max  \n",
       "tenure            57.0000    72.0  \n",
       "MonthlyCharges    90.2375   118.2  \n",
       "TotalCharges    3776.0000  8684.8  "
      ]
     },
     "execution_count": 43,
     "metadata": {},
     "output_type": "execute_result"
    }
   ],
   "source": [
    "X_test.describe().T"
   ]
  },
  {
   "cell_type": "markdown",
   "metadata": {},
   "source": [
    "The split does not have much difference in tenure and MonthlyCharges. \n",
    "\n",
    "But there is some difference for TotalCharges in X_trainR data. Mean and 25, 50, 75 quartile are significantly different."
   ]
  },
  {
   "cell_type": "code",
   "execution_count": 44,
   "metadata": {},
   "outputs": [
    {
     "name": "stdout",
     "output_type": "stream",
     "text": [
      "Original gender True Values : 50.47%\n",
      "Train gender True Values    : 50.20%\n",
      "Test gender True Values     : 50.38%\n",
      "\n",
      "Original SeniorCitizen True Values : 16.24%\n",
      "Train SeniorCitizen True Values    : 16.03%\n",
      "Test SeniorCitizen True Values     : 16.68%\n",
      "\n",
      "Original Partner True Values : 48.25%\n",
      "Train Partner True Values    : 41.22%\n",
      "Test Partner True Values     : 49.19%\n",
      "\n",
      "Original Dependents True Values : 29.85%\n",
      "Train Dependents True Values    : 21.86%\n",
      "Test Dependents True Values     : 30.24%\n",
      "\n",
      "Original PhoneService True Values : 90.33%\n",
      "Train PhoneService True Values    : 91.74%\n",
      "Test PhoneService True Values     : 90.33%\n",
      "\n",
      "Original PaperlessBilling True Values : 59.27%\n",
      "Train PaperlessBilling True Values    : 66.79%\n",
      "Test PaperlessBilling True Values     : 60.47%\n",
      "\n"
     ]
    }
   ],
   "source": [
    "# Finding out split of True values, we can figure out flase values also from it.\n",
    "\n",
    "col = ['gender', 'SeniorCitizen', 'Partner', 'Dependents', 'PhoneService', 'PaperlessBilling']\n",
    "for i in col:\n",
    "    print('Original', i, 'True Values : {0:0.2f}%'.format((len(data.loc[data[i] == 1])/len(data.index))*100))\n",
    "    print('Train', i, 'True Values    : {0:0.2f}%'.format((len(X_trainR.loc[X_trainR[i] == 1])/len(X_trainR.index))*100))\n",
    "    print('Test', i, 'True Values     : {0:0.2f}%\\n'.format((len(X_test.loc[X_test[i] == 1])/len(X_test.index))*100))"
   ]
  },
  {
   "cell_type": "markdown",
   "metadata": {},
   "source": [
    "Distribution of test is matching original data but there is some difference for train data. There is a diffrence for Partner, Dependents, PaperlessBilling variables."
   ]
  },
  {
   "cell_type": "code",
   "execution_count": 45,
   "metadata": {},
   "outputs": [
    {
     "name": "stdout",
     "output_type": "stream",
     "text": [
      "Original MultipleLines True Values  : 42.19%\n",
      "Train MultipleLines True Values     : 44.84%\n",
      "Test MultipleLines True Values      : 43.46%\n",
      "\n",
      "Original MultipleLines False Values  : 48.14%\n",
      "Train MultipleLines False Values     : 46.75%\n",
      "Test MultipleLines False Values      : 46.87%\n",
      "\n",
      "Original OnlineSecurity True Values  : 28.65%\n",
      "Train OnlineSecurity True Values     : 21.07%\n",
      "Test OnlineSecurity True Values      : 29.76%\n",
      "\n",
      "Original OnlineSecurity False Values  : 49.73%\n",
      "Train OnlineSecurity False Values     : 62.19%\n",
      "Test OnlineSecurity False Values      : 48.34%\n",
      "\n",
      "Original OnlineBackup True Values  : 34.49%\n",
      "Train OnlineBackup True Values     : 28.82%\n",
      "Test OnlineBackup True Values      : 35.07%\n",
      "\n",
      "Original OnlineBackup False Values  : 43.90%\n",
      "Train OnlineBackup False Values     : 54.45%\n",
      "Test OnlineBackup False Values      : 43.03%\n",
      "\n",
      "Original DeviceProtection True Values  : 34.39%\n",
      "Train DeviceProtection True Values     : 28.87%\n",
      "Test DeviceProtection True Values      : 34.17%\n",
      "\n",
      "Original DeviceProtection False Values  : 44.00%\n",
      "Train DeviceProtection False Values     : 54.39%\n",
      "Test DeviceProtection False Values      : 43.93%\n",
      "\n",
      "Original TechSupport True Values  : 29.01%\n",
      "Train TechSupport True Values     : 20.72%\n",
      "Test TechSupport True Values      : 30.43%\n",
      "\n",
      "Original TechSupport False Values  : 49.37%\n",
      "Train TechSupport False Values     : 62.54%\n",
      "Test TechSupport False Values      : 47.68%\n",
      "\n",
      "Original StreamingTV True Values  : 38.44%\n",
      "Train StreamingTV True Values     : 39.31%\n",
      "Test StreamingTV True Values      : 38.77%\n",
      "\n",
      "Original StreamingTV False Values  : 39.95%\n",
      "Train StreamingTV False Values     : 43.95%\n",
      "Test StreamingTV False Values      : 39.34%\n",
      "\n",
      "Original StreamingMovies True Values  : 38.84%\n",
      "Train StreamingMovies True Values     : 39.67%\n",
      "Test StreamingMovies True Values      : 39.29%\n",
      "\n",
      "Original StreamingMovies False Values  : 39.55%\n",
      "Train StreamingMovies False Values     : 43.59%\n",
      "Test StreamingMovies False Values      : 38.82%\n",
      "\n"
     ]
    }
   ],
   "source": [
    "col1 = ['MultipleLines', 'OnlineSecurity', 'OnlineBackup', 'DeviceProtection', 'TechSupport', 'StreamingTV', 'StreamingMovies']\n",
    "for i in col1:\n",
    "    print('Original', i, 'True Values  : {0:0.2f}%'.format((len(data.loc[data[i] == 1])/len(data.index))*100))\n",
    "    print('Train', i, 'True Values     : {0:0.2f}%'.format((len(X_trainR.loc[X_trainR[i] == 1])/len(X_trainR.index))*100))\n",
    "    print('Test', i, 'True Values      : {0:0.2f}%\\n'.format((len(X_test.loc[X_test[i] == 1])/len(X_test.index))*100))\n",
    "    \n",
    "    print('Original', i, 'False Values  : {0:0.2f}%'.format((len(data.loc[data[i] == 0])/len(data.index))*100))\n",
    "    print('Train', i, 'False Values     : {0:0.2f}%'.format((len(X_trainR.loc[X_trainR[i] == 0])/len(X_trainR.index))*100))\n",
    "    print('Test', i, 'False Values      : {0:0.2f}%\\n'.format((len(X_test.loc[X_test[i] == 0])/len(X_test.index))*100))"
   ]
  },
  {
   "cell_type": "markdown",
   "metadata": {},
   "source": [
    "Not considered No service Distribution as we are checking values for both True and False.\n",
    "\n",
    "Distribution of test is matching original data but there is some difference for train data. There is a diffrence for OnlineSecurity, OnlineBackup, DeviceProtection, TechSupport."
   ]
  },
  {
   "cell_type": "code",
   "execution_count": 46,
   "metadata": {},
   "outputs": [
    {
     "name": "stdout",
     "output_type": "stream",
     "text": [
      "Original InternetService DSL Values  : 34.36%\n",
      "Train InternetService DSL Values     : 29.39%\n",
      "Test InternetService DSL Values      : 33.98%\n",
      "\n",
      "Original InternetService Fiber optic Values  : 44.03%\n",
      "Train InternetService Fiber optic Values     : 53.87%\n",
      "Test InternetService Fiber optic Values      : 44.12%\n",
      "\n"
     ]
    }
   ],
   "source": [
    "print('Original InternetService DSL Values  : {0:0.2f}%'.format((len(data.loc[data['InternetService'] == 0])/len(data.index))*100))\n",
    "print('Train InternetService DSL Values     : {0:0.2f}%'.format((len(X_trainR.loc[X_trainR['InternetService'] == 0])/len(X_trainR.index))*100))\n",
    "print('Test InternetService DSL Values      : {0:0.2f}%\\n'.format((len(X_test.loc[X_test['InternetService'] == 0])/len(X_test.index))*100))\n",
    "\n",
    "print('Original InternetService Fiber optic Values  : {0:0.2f}%'.format((len(data.loc[data['InternetService'] == 1])/len(data.index))*100))\n",
    "print('Train InternetService Fiber optic Values     : {0:0.2f}%'.format((len(X_trainR.loc[X_trainR['InternetService'] == 1])/len(X_trainR.index))*100))\n",
    "print('Test InternetService Fiber optic Values      : {0:0.2f}%\\n'.format((len(X_test.loc[X_test['InternetService'] == 1])/len(X_test.index))*100))"
   ]
  },
  {
   "cell_type": "markdown",
   "metadata": {},
   "source": [
    "Distribution of test is matching original data but there is some difference for train data."
   ]
  },
  {
   "cell_type": "code",
   "execution_count": 47,
   "metadata": {},
   "outputs": [
    {
     "name": "stdout",
     "output_type": "stream",
     "text": [
      "Original Contract Month-to-month Values  : 55.11%\n",
      "Train Contract Month-to-month Values     : 67.31%\n",
      "Test Contract Month-to-month Values      : 55.02%\n",
      "\n",
      "Original Contract One year Values  : 20.93%\n",
      "Train Contract One year Values     : 15.80%\n",
      "Test Contract One year Values      : 20.76%\n",
      "\n",
      "Original Contract Two year Values  : 23.96%\n",
      "Train Contract Two year Values     : 16.89%\n",
      "Test Contract Two year Values      : 24.22%\n",
      "\n"
     ]
    }
   ],
   "source": [
    "print('Original Contract Month-to-month Values  : {0:0.2f}%'.format((len(data.loc[data['Contract'] == 0])/len(data.index))*100))\n",
    "print('Train Contract Month-to-month Values     : {0:0.2f}%'.format((len(X_trainR.loc[X_trainR['Contract'] == 0])/len(X_trainR.index))*100))\n",
    "print('Test Contract Month-to-month Values      : {0:0.2f}%\\n'.format((len(X_test.loc[X_test['Contract'] == 0])/len(X_test.index))*100))\n",
    "\n",
    "print('Original Contract One year Values  : {0:0.2f}%'.format((len(data.loc[data['Contract'] == 1])/len(data.index))*100))\n",
    "print('Train Contract One year Values     : {0:0.2f}%'.format((len(X_trainR.loc[X_trainR['Contract'] == 1])/len(X_trainR.index))*100))\n",
    "print('Test Contract One year Values      : {0:0.2f}%\\n'.format((len(X_test.loc[X_test['Contract'] == 1])/len(X_test.index))*100))\n",
    "\n",
    "print('Original Contract Two year Values  : {0:0.2f}%'.format((len(data.loc[data['Contract'] == 2])/len(data.index))*100))\n",
    "print('Train Contract Two year Values     : {0:0.2f}%'.format((len(X_trainR.loc[X_trainR['Contract'] == 2])/len(X_trainR.index))*100))\n",
    "print('Test Contract Two year Values      : {0:0.2f}%\\n'.format((len(X_test.loc[X_test['Contract'] == 2])/len(X_test.index))*100))\n"
   ]
  },
  {
   "cell_type": "markdown",
   "metadata": {},
   "source": [
    "Distribution of test is matching original data but there is some difference for train data."
   ]
  },
  {
   "cell_type": "code",
   "execution_count": 48,
   "metadata": {},
   "outputs": [
    {
     "name": "stdout",
     "output_type": "stream",
     "text": [
      "Original PaymentMethod Electronic check Values  : 33.63%\n",
      "Train PaymentMethod Electronic check Values     : 47.70%\n",
      "Test PaymentMethod Electronic check Values      : 33.36%\n",
      "\n",
      "Original PaymentMethod Mailed check Values  : 22.81%\n",
      "Train PaymentMethod Mailed check Values     : 20.11%\n",
      "Test PaymentMethod Mailed check Values      : 20.90%\n",
      "\n",
      "Original PaymentMethod Bank transfer (automatic) Values  : 21.93%\n",
      "Train PaymentMethod Bank transfer (automatic) Values     : 16.69%\n",
      "Test PaymentMethod Bank transfer (automatic) Values      : 22.51%\n",
      "\n",
      "Original PaymentMethod Credit card (automatic) Values  : 21.63%\n",
      "Train PaymentMethod Credit card (automatic) Values     : 15.50%\n",
      "Test PaymentMethod Credit card (automatic) Values      : 23.22%\n",
      "\n"
     ]
    }
   ],
   "source": [
    "print('Original PaymentMethod Electronic check Values  : {0:0.2f}%'.format((len(data.loc[data['PaymentMethod'] == 0])/len(data.index))*100))\n",
    "print('Train PaymentMethod Electronic check Values     : {0:0.2f}%'.format((len(X_trainR.loc[X_trainR['PaymentMethod'] == 0])/len(X_trainR.index))*100))\n",
    "print('Test PaymentMethod Electronic check Values      : {0:0.2f}%\\n'.format((len(X_test.loc[X_test['PaymentMethod'] == 0])/len(X_test.index))*100))\n",
    "\n",
    "print('Original PaymentMethod Mailed check Values  : {0:0.2f}%'.format((len(data.loc[data['PaymentMethod'] == 1])/len(data.index))*100))\n",
    "print('Train PaymentMethod Mailed check Values     : {0:0.2f}%'.format((len(X_trainR.loc[X_trainR['PaymentMethod'] == 1])/len(X_trainR.index))*100))\n",
    "print('Test PaymentMethod Mailed check Values      : {0:0.2f}%\\n'.format((len(X_test.loc[X_test['PaymentMethod'] == 1])/len(X_test.index))*100))\n",
    "\n",
    "print('Original PaymentMethod Bank transfer (automatic) Values  : {0:0.2f}%'.format((len(data.loc[data['PaymentMethod'] == 2])/len(data.index))*100))\n",
    "print('Train PaymentMethod Bank transfer (automatic) Values     : {0:0.2f}%'.format((len(X_trainR.loc[X_trainR['PaymentMethod'] == 2])/len(X_trainR.index))*100))\n",
    "print('Test PaymentMethod Bank transfer (automatic) Values      : {0:0.2f}%\\n'.format((len(X_test.loc[X_test['PaymentMethod'] == 2])/len(X_test.index))*100))\n",
    "\n",
    "print('Original PaymentMethod Credit card (automatic) Values  : {0:0.2f}%'.format((len(data.loc[data['PaymentMethod'] == 3])/len(data.index))*100))\n",
    "print('Train PaymentMethod Credit card (automatic) Values     : {0:0.2f}%'.format((len(X_trainR.loc[X_trainR['PaymentMethod'] == 3])/len(X_trainR.index))*100))\n",
    "print('Test PaymentMethod Credit card (automatic) Values      : {0:0.2f}%\\n'.format((len(X_test.loc[X_test['PaymentMethod'] == 3])/len(X_test.index))*100))\n"
   ]
  },
  {
   "cell_type": "markdown",
   "metadata": {},
   "source": [
    "Distribution of test is matching original data but there is some difference for train data."
   ]
  },
  {
   "cell_type": "code",
   "execution_count": 49,
   "metadata": {},
   "outputs": [
    {
     "name": "stdout",
     "output_type": "stream",
     "text": [
      "Original Churn True Values  : 26.58%\n",
      "Train Churn True Values     : 50.00%\n",
      "Test Churn True Values      : 25.36%\n",
      "\n",
      "Original Churn False Values  : 73.42%\n",
      "Train Churn False Values     : 50.00%\n",
      "Test Churn False Values      : 74.64%\n",
      "\n"
     ]
    }
   ],
   "source": [
    "print('Original Churn True Values  : {0:0.2f}%'.format((len(data.loc[data['Churn'] == 1])/len(data.index))*100))\n",
    "print('Train Churn True Values     : {0:0.2f}%'.format(((sum(y_trainR == 1))/len(y_trainR.index))*100))\n",
    "print('Test Churn True Values      : {0:0.2f}%\\n'.format(((sum(y_test == 1))/len(y_test.index))*100))\n",
    "\n",
    "print('Original Churn False Values  : {0:0.2f}%'.format((len(data.loc[data['Churn'] == 0])/len(data.index))*100))\n",
    "print('Train Churn False Values     : {0:0.2f}%'.format(((sum(y_trainR == 0))/len(y_trainR.index))*100))\n",
    "print('Test Churn False Values      : {0:0.2f}%\\n'.format(((sum(y_test == 0))/len(y_test.index))*100))\n"
   ]
  },
  {
   "cell_type": "markdown",
   "metadata": {},
   "source": [
    "We can see our target training data is equally distributed because of balancing."
   ]
  },
  {
   "cell_type": "markdown",
   "metadata": {},
   "source": [
    "### 5. Model training, testing and tuning: \n",
    "[ Score: 25 point ]\n",
    "\n",
    "• Train and test all ensemble models taught in the learning module.\n",
    "\n",
    "• Suggestion: Use standard ensembles available. Also you can design your own ensemble technique using weak classifiers.\n",
    "\n",
    "• Display the classification accuracies for train and test data.\n",
    "\n",
    "• Apply all the possible tuning techniques to train the best model for the given data.\n",
    "\n",
    "• Suggestion: Use all possible hyper parameter combinations to extract the best accuracies.\n",
    "\n",
    "• Display and compare all the models designed with their train and test accuracies.\n",
    "\n",
    "• Select the final best trained model along with your detailed comments for selecting this model.\n",
    "\n",
    "• Pick the selected model for future use"
   ]
  },
  {
   "cell_type": "code",
   "execution_count": 50,
   "metadata": {},
   "outputs": [
    {
     "name": "stdout",
     "output_type": "stream",
     "text": [
      "Train Accuracy: 0.998\n",
      "Test Accuracy: 0.734\n"
     ]
    }
   ],
   "source": [
    "# Let us use Ensemble Models one by one. \n",
    "# Decision Tree\n",
    "\n",
    "from sklearn.tree import DecisionTreeClassifier\n",
    "from sklearn import metrics\n",
    "from sklearn.metrics import accuracy_score\n",
    "from sklearn.feature_extraction.text import CountVectorizer\n",
    "\n",
    "DTree = DecisionTreeClassifier (criterion = 'entropy', random_state = 22)\n",
    "DTree.fit(X_trainR, y_trainR)\n",
    "DTreeTr = DTree.score(X_trainR, y_trainR).round(3)\n",
    "DTreeTe = DTree.score(X_test, y_test).round(3)\n",
    "\n",
    "print('Train Accuracy:', DTreeTr)\n",
    "print('Test Accuracy:', DTreeTe)"
   ]
  },
  {
   "cell_type": "markdown",
   "metadata": {},
   "source": [
    "Train accuracy is almost around 1 due to overfitting. \n",
    "\n",
    "There is a significant difference between test and train accuracy. So we will regularise model by prunning."
   ]
  },
  {
   "cell_type": "code",
   "execution_count": 51,
   "metadata": {},
   "outputs": [
    {
     "data": {
      "text/html": [
       "<div>\n",
       "<style scoped>\n",
       "    .dataframe tbody tr th:only-of-type {\n",
       "        vertical-align: middle;\n",
       "    }\n",
       "\n",
       "    .dataframe tbody tr th {\n",
       "        vertical-align: top;\n",
       "    }\n",
       "\n",
       "    .dataframe thead th {\n",
       "        text-align: right;\n",
       "    }\n",
       "</style>\n",
       "<table border=\"1\" class=\"dataframe\">\n",
       "  <thead>\n",
       "    <tr style=\"text-align: right;\">\n",
       "      <th></th>\n",
       "      <th>Accuracy Test</th>\n",
       "      <th>Accuracy Train</th>\n",
       "    </tr>\n",
       "    <tr>\n",
       "      <th>Model</th>\n",
       "      <th></th>\n",
       "      <th></th>\n",
       "    </tr>\n",
       "  </thead>\n",
       "  <tbody>\n",
       "    <tr>\n",
       "      <th>Decision Tree</th>\n",
       "      <td>0.734</td>\n",
       "      <td>0.998</td>\n",
       "    </tr>\n",
       "  </tbody>\n",
       "</table>\n",
       "</div>"
      ],
      "text/plain": [
       "               Accuracy Test  Accuracy Train\n",
       "Model                                       \n",
       "Decision Tree          0.734           0.998"
      ]
     },
     "execution_count": 51,
     "metadata": {},
     "output_type": "execute_result"
    }
   ],
   "source": [
    "acc_report = pd.DataFrame({'Model': ['Decision Tree'], 'Accuracy Test': [DTreeTe], 'Accuracy Train': [DTreeTr]})\n",
    "acc_report.set_index('Model', inplace= True)\n",
    "acc_report"
   ]
  },
  {
   "cell_type": "code",
   "execution_count": 52,
   "metadata": {},
   "outputs": [
    {
     "name": "stdout",
     "output_type": "stream",
     "text": [
      "Train Accuracy: 0.802\n",
      "Test Accuracy: 0.774\n"
     ]
    }
   ],
   "source": [
    "# Regularize the Decision Tree\n",
    "\n",
    "DTreeR = DecisionTreeClassifier(criterion = 'gini', max_depth = 5, random_state = 5)\n",
    "DTreeR.fit(X_trainR, y_trainR)\n",
    "pred_dtR = DTreeR.predict(X_test)\n",
    "DT_accTr = DTreeR.score(X_trainR, y_trainR).round(3)\n",
    "DT_accTe = DTreeR.score(X_test, y_test).round(3)\n",
    "print('Train Accuracy:', DT_accTr)\n",
    "print('Test Accuracy:', DT_accTe)"
   ]
  },
  {
   "cell_type": "markdown",
   "metadata": {},
   "source": [
    "After pruning, accuracy of training data has reduced but accuracy of tesing and training data are closer.\n",
    "\n",
    "Also the accuracy of Testing data is improved."
   ]
  },
  {
   "cell_type": "code",
   "execution_count": 53,
   "metadata": {},
   "outputs": [
    {
     "data": {
      "text/html": [
       "<div>\n",
       "<style scoped>\n",
       "    .dataframe tbody tr th:only-of-type {\n",
       "        vertical-align: middle;\n",
       "    }\n",
       "\n",
       "    .dataframe tbody tr th {\n",
       "        vertical-align: top;\n",
       "    }\n",
       "\n",
       "    .dataframe thead th {\n",
       "        text-align: right;\n",
       "    }\n",
       "</style>\n",
       "<table border=\"1\" class=\"dataframe\">\n",
       "  <thead>\n",
       "    <tr style=\"text-align: right;\">\n",
       "      <th></th>\n",
       "      <th>Accuracy Test</th>\n",
       "      <th>Accuracy Train</th>\n",
       "    </tr>\n",
       "    <tr>\n",
       "      <th>Model</th>\n",
       "      <th></th>\n",
       "      <th></th>\n",
       "    </tr>\n",
       "  </thead>\n",
       "  <tbody>\n",
       "    <tr>\n",
       "      <th>Decision Tree</th>\n",
       "      <td>0.734</td>\n",
       "      <td>0.998</td>\n",
       "    </tr>\n",
       "    <tr>\n",
       "      <th>Decision Tree R</th>\n",
       "      <td>0.774</td>\n",
       "      <td>0.802</td>\n",
       "    </tr>\n",
       "  </tbody>\n",
       "</table>\n",
       "</div>"
      ],
      "text/plain": [
       "                 Accuracy Test  Accuracy Train\n",
       "Model                                         \n",
       "Decision Tree            0.734           0.998\n",
       "Decision Tree R          0.774           0.802"
      ]
     },
     "execution_count": 53,
     "metadata": {},
     "output_type": "execute_result"
    }
   ],
   "source": [
    "acc_report.loc['Decision Tree R'] = [DT_accTe, DT_accTr]\n",
    "acc_report"
   ]
  },
  {
   "cell_type": "code",
   "execution_count": 54,
   "metadata": {},
   "outputs": [
    {
     "data": {
      "text/html": [
       "<div>\n",
       "<style scoped>\n",
       "    .dataframe tbody tr th:only-of-type {\n",
       "        vertical-align: middle;\n",
       "    }\n",
       "\n",
       "    .dataframe tbody tr th {\n",
       "        vertical-align: top;\n",
       "    }\n",
       "\n",
       "    .dataframe thead th {\n",
       "        text-align: right;\n",
       "    }\n",
       "</style>\n",
       "<table border=\"1\" class=\"dataframe\">\n",
       "  <thead>\n",
       "    <tr style=\"text-align: right;\">\n",
       "      <th></th>\n",
       "      <th>Accuracy Test</th>\n",
       "      <th>Accuracy Train</th>\n",
       "    </tr>\n",
       "    <tr>\n",
       "      <th>Model</th>\n",
       "      <th></th>\n",
       "      <th></th>\n",
       "    </tr>\n",
       "  </thead>\n",
       "  <tbody>\n",
       "    <tr>\n",
       "      <th>Decision Tree</th>\n",
       "      <td>0.734</td>\n",
       "      <td>0.998</td>\n",
       "    </tr>\n",
       "    <tr>\n",
       "      <th>Decision Tree R</th>\n",
       "      <td>0.774</td>\n",
       "      <td>0.802</td>\n",
       "    </tr>\n",
       "    <tr>\n",
       "      <th>Random Forest</th>\n",
       "      <td>0.779</td>\n",
       "      <td>0.998</td>\n",
       "    </tr>\n",
       "  </tbody>\n",
       "</table>\n",
       "</div>"
      ],
      "text/plain": [
       "                 Accuracy Test  Accuracy Train\n",
       "Model                                         \n",
       "Decision Tree            0.734           0.998\n",
       "Decision Tree R          0.774           0.802\n",
       "Random Forest            0.779           0.998"
      ]
     },
     "execution_count": 54,
     "metadata": {},
     "output_type": "execute_result"
    }
   ],
   "source": [
    "from sklearn.ensemble import RandomForestClassifier\n",
    "rfcl = RandomForestClassifier(n_estimators = 50)\n",
    "rfcl = rfcl.fit(X_trainR, y_trainR)\n",
    "pred_rf = rfcl.predict(X_test)\n",
    "rfcl_accTe = accuracy_score(y_test, pred_rf).round(3)\n",
    "rfcl_accTr = rfcl.score(X_trainR, y_trainR).round(3)\n",
    "\n",
    "acc_report.loc['Random Forest'] = [rfcl_accTe, rfcl_accTr]\n",
    "acc_report"
   ]
  },
  {
   "cell_type": "markdown",
   "metadata": {},
   "source": [
    "Train accuracy is almost around 1 due to overfitting. \n",
    "\n",
    "There is a significant difference between test and train accuracy. So we will regularise model by prunning."
   ]
  },
  {
   "cell_type": "code",
   "execution_count": 55,
   "metadata": {},
   "outputs": [
    {
     "data": {
      "text/html": [
       "<div>\n",
       "<style scoped>\n",
       "    .dataframe tbody tr th:only-of-type {\n",
       "        vertical-align: middle;\n",
       "    }\n",
       "\n",
       "    .dataframe tbody tr th {\n",
       "        vertical-align: top;\n",
       "    }\n",
       "\n",
       "    .dataframe thead th {\n",
       "        text-align: right;\n",
       "    }\n",
       "</style>\n",
       "<table border=\"1\" class=\"dataframe\">\n",
       "  <thead>\n",
       "    <tr style=\"text-align: right;\">\n",
       "      <th></th>\n",
       "      <th>Accuracy Test</th>\n",
       "      <th>Accuracy Train</th>\n",
       "    </tr>\n",
       "    <tr>\n",
       "      <th>Model</th>\n",
       "      <th></th>\n",
       "      <th></th>\n",
       "    </tr>\n",
       "  </thead>\n",
       "  <tbody>\n",
       "    <tr>\n",
       "      <th>Decision Tree</th>\n",
       "      <td>0.734</td>\n",
       "      <td>0.998</td>\n",
       "    </tr>\n",
       "    <tr>\n",
       "      <th>Decision Tree R</th>\n",
       "      <td>0.774</td>\n",
       "      <td>0.802</td>\n",
       "    </tr>\n",
       "    <tr>\n",
       "      <th>Random Forest</th>\n",
       "      <td>0.779</td>\n",
       "      <td>0.998</td>\n",
       "    </tr>\n",
       "    <tr>\n",
       "      <th>Random Forest R</th>\n",
       "      <td>0.777</td>\n",
       "      <td>0.842</td>\n",
       "    </tr>\n",
       "  </tbody>\n",
       "</table>\n",
       "</div>"
      ],
      "text/plain": [
       "                 Accuracy Test  Accuracy Train\n",
       "Model                                         \n",
       "Decision Tree            0.734           0.998\n",
       "Decision Tree R          0.774           0.802\n",
       "Random Forest            0.779           0.998\n",
       "Random Forest R          0.777           0.842"
      ]
     },
     "execution_count": 55,
     "metadata": {},
     "output_type": "execute_result"
    }
   ],
   "source": [
    "rfclR = RandomForestClassifier(n_estimators = 50, max_depth = 7)\n",
    "rfclR = rfclR.fit(X_trainR, y_trainR)\n",
    "pred_rfR = rfclR.predict(X_test)\n",
    "rfclR_accTe = accuracy_score(y_test, pred_rfR).round(3)\n",
    "rfclR_accTr = rfclR.score(X_trainR, y_trainR).round(3)\n",
    "\n",
    "acc_report.loc['Random Forest R'] = [rfclR_accTe, rfclR_accTr]\n",
    "acc_report"
   ]
  },
  {
   "cell_type": "markdown",
   "metadata": {},
   "source": [
    "After pruning, accuracy of training data has reduced but accuracy of tesing and training data are closer."
   ]
  },
  {
   "cell_type": "code",
   "execution_count": 56,
   "metadata": {},
   "outputs": [
    {
     "data": {
      "text/html": [
       "<div>\n",
       "<style scoped>\n",
       "    .dataframe tbody tr th:only-of-type {\n",
       "        vertical-align: middle;\n",
       "    }\n",
       "\n",
       "    .dataframe tbody tr th {\n",
       "        vertical-align: top;\n",
       "    }\n",
       "\n",
       "    .dataframe thead th {\n",
       "        text-align: right;\n",
       "    }\n",
       "</style>\n",
       "<table border=\"1\" class=\"dataframe\">\n",
       "  <thead>\n",
       "    <tr style=\"text-align: right;\">\n",
       "      <th></th>\n",
       "      <th>Accuracy Test</th>\n",
       "      <th>Accuracy Train</th>\n",
       "    </tr>\n",
       "    <tr>\n",
       "      <th>Model</th>\n",
       "      <th></th>\n",
       "      <th></th>\n",
       "    </tr>\n",
       "  </thead>\n",
       "  <tbody>\n",
       "    <tr>\n",
       "      <th>Decision Tree</th>\n",
       "      <td>0.734</td>\n",
       "      <td>0.998</td>\n",
       "    </tr>\n",
       "    <tr>\n",
       "      <th>Decision Tree R</th>\n",
       "      <td>0.774</td>\n",
       "      <td>0.802</td>\n",
       "    </tr>\n",
       "    <tr>\n",
       "      <th>Random Forest</th>\n",
       "      <td>0.779</td>\n",
       "      <td>0.998</td>\n",
       "    </tr>\n",
       "    <tr>\n",
       "      <th>Random Forest R</th>\n",
       "      <td>0.777</td>\n",
       "      <td>0.842</td>\n",
       "    </tr>\n",
       "    <tr>\n",
       "      <th>Bagging Classifier</th>\n",
       "      <td>0.776</td>\n",
       "      <td>0.995</td>\n",
       "    </tr>\n",
       "  </tbody>\n",
       "</table>\n",
       "</div>"
      ],
      "text/plain": [
       "                    Accuracy Test  Accuracy Train\n",
       "Model                                            \n",
       "Decision Tree               0.734           0.998\n",
       "Decision Tree R             0.774           0.802\n",
       "Random Forest               0.779           0.998\n",
       "Random Forest R             0.777           0.842\n",
       "Bagging Classifier          0.776           0.995"
      ]
     },
     "execution_count": 56,
     "metadata": {},
     "output_type": "execute_result"
    }
   ],
   "source": [
    "from sklearn.ensemble import BaggingClassifier\n",
    "bgcl = BaggingClassifier(n_estimators = 50, max_samples = .8, bootstrap = True, random_state = 10)\n",
    "bgcl = bgcl.fit(X_trainR, y_trainR)\n",
    "pred_bg = bgcl.predict(X_test)\n",
    "bg_accTe = accuracy_score(y_test, pred_bg).round(3)\n",
    "bg_accTr = bgcl.score(X_trainR, y_trainR).round(3)\n",
    "\n",
    "acc_report.loc['Bagging Classifier'] = [bg_accTe, bg_accTr]\n",
    "acc_report"
   ]
  },
  {
   "cell_type": "markdown",
   "metadata": {},
   "source": [
    "Train accuracy is almost around 1 due to overfitting. \n",
    "\n",
    "There is a significant difference between test and train accuracy. So we will regularise model by prunning."
   ]
  },
  {
   "cell_type": "code",
   "execution_count": 57,
   "metadata": {},
   "outputs": [
    {
     "data": {
      "text/html": [
       "<div>\n",
       "<style scoped>\n",
       "    .dataframe tbody tr th:only-of-type {\n",
       "        vertical-align: middle;\n",
       "    }\n",
       "\n",
       "    .dataframe tbody tr th {\n",
       "        vertical-align: top;\n",
       "    }\n",
       "\n",
       "    .dataframe thead th {\n",
       "        text-align: right;\n",
       "    }\n",
       "</style>\n",
       "<table border=\"1\" class=\"dataframe\">\n",
       "  <thead>\n",
       "    <tr style=\"text-align: right;\">\n",
       "      <th></th>\n",
       "      <th>Accuracy Test</th>\n",
       "      <th>Accuracy Train</th>\n",
       "    </tr>\n",
       "    <tr>\n",
       "      <th>Model</th>\n",
       "      <th></th>\n",
       "      <th></th>\n",
       "    </tr>\n",
       "  </thead>\n",
       "  <tbody>\n",
       "    <tr>\n",
       "      <th>Decision Tree</th>\n",
       "      <td>0.734</td>\n",
       "      <td>0.998</td>\n",
       "    </tr>\n",
       "    <tr>\n",
       "      <th>Decision Tree R</th>\n",
       "      <td>0.774</td>\n",
       "      <td>0.802</td>\n",
       "    </tr>\n",
       "    <tr>\n",
       "      <th>Random Forest</th>\n",
       "      <td>0.779</td>\n",
       "      <td>0.998</td>\n",
       "    </tr>\n",
       "    <tr>\n",
       "      <th>Random Forest R</th>\n",
       "      <td>0.777</td>\n",
       "      <td>0.842</td>\n",
       "    </tr>\n",
       "    <tr>\n",
       "      <th>Bagging Classifier</th>\n",
       "      <td>0.776</td>\n",
       "      <td>0.995</td>\n",
       "    </tr>\n",
       "    <tr>\n",
       "      <th>Bagging Classifier R</th>\n",
       "      <td>0.744</td>\n",
       "      <td>0.865</td>\n",
       "    </tr>\n",
       "  </tbody>\n",
       "</table>\n",
       "</div>"
      ],
      "text/plain": [
       "                      Accuracy Test  Accuracy Train\n",
       "Model                                              \n",
       "Decision Tree                 0.734           0.998\n",
       "Decision Tree R               0.774           0.802\n",
       "Random Forest                 0.779           0.998\n",
       "Random Forest R               0.777           0.842\n",
       "Bagging Classifier            0.776           0.995\n",
       "Bagging Classifier R          0.744           0.865"
      ]
     },
     "execution_count": 57,
     "metadata": {},
     "output_type": "execute_result"
    }
   ],
   "source": [
    "bgclR = BaggingClassifier(n_estimators = 100, max_samples = .8, bootstrap = True, oob_score = True, random_state = 10,\n",
    "                         max_features = 2)\n",
    "bgclR = bgclR.fit(X_trainR, y_trainR)\n",
    "pred_bgR = bgclR.predict(X_test)\n",
    "bg_accTeR = accuracy_score(y_test, pred_bgR).round(3)\n",
    "bg_accTrR = bgclR.score(X_trainR, y_trainR).round(3)\n",
    "\n",
    "acc_report.loc['Bagging Classifier R'] = [bg_accTeR, bg_accTrR]\n",
    "acc_report"
   ]
  },
  {
   "cell_type": "markdown",
   "metadata": {},
   "source": [
    "After pruning, accuracy of training data has reduced but accuracy of tesing and training data are closer."
   ]
  },
  {
   "cell_type": "code",
   "execution_count": 58,
   "metadata": {},
   "outputs": [
    {
     "data": {
      "text/html": [
       "<div>\n",
       "<style scoped>\n",
       "    .dataframe tbody tr th:only-of-type {\n",
       "        vertical-align: middle;\n",
       "    }\n",
       "\n",
       "    .dataframe tbody tr th {\n",
       "        vertical-align: top;\n",
       "    }\n",
       "\n",
       "    .dataframe thead th {\n",
       "        text-align: right;\n",
       "    }\n",
       "</style>\n",
       "<table border=\"1\" class=\"dataframe\">\n",
       "  <thead>\n",
       "    <tr style=\"text-align: right;\">\n",
       "      <th></th>\n",
       "      <th>Accuracy Test</th>\n",
       "      <th>Accuracy Train</th>\n",
       "    </tr>\n",
       "    <tr>\n",
       "      <th>Model</th>\n",
       "      <th></th>\n",
       "      <th></th>\n",
       "    </tr>\n",
       "  </thead>\n",
       "  <tbody>\n",
       "    <tr>\n",
       "      <th>Decision Tree</th>\n",
       "      <td>0.734</td>\n",
       "      <td>0.998</td>\n",
       "    </tr>\n",
       "    <tr>\n",
       "      <th>Decision Tree R</th>\n",
       "      <td>0.774</td>\n",
       "      <td>0.802</td>\n",
       "    </tr>\n",
       "    <tr>\n",
       "      <th>Random Forest</th>\n",
       "      <td>0.779</td>\n",
       "      <td>0.998</td>\n",
       "    </tr>\n",
       "    <tr>\n",
       "      <th>Random Forest R</th>\n",
       "      <td>0.777</td>\n",
       "      <td>0.842</td>\n",
       "    </tr>\n",
       "    <tr>\n",
       "      <th>Bagging Classifier</th>\n",
       "      <td>0.776</td>\n",
       "      <td>0.995</td>\n",
       "    </tr>\n",
       "    <tr>\n",
       "      <th>Bagging Classifier R</th>\n",
       "      <td>0.744</td>\n",
       "      <td>0.865</td>\n",
       "    </tr>\n",
       "    <tr>\n",
       "      <th>Ada Boost</th>\n",
       "      <td>0.764</td>\n",
       "      <td>0.771</td>\n",
       "    </tr>\n",
       "  </tbody>\n",
       "</table>\n",
       "</div>"
      ],
      "text/plain": [
       "                      Accuracy Test  Accuracy Train\n",
       "Model                                              \n",
       "Decision Tree                 0.734           0.998\n",
       "Decision Tree R               0.774           0.802\n",
       "Random Forest                 0.779           0.998\n",
       "Random Forest R               0.777           0.842\n",
       "Bagging Classifier            0.776           0.995\n",
       "Bagging Classifier R          0.744           0.865\n",
       "Ada Boost                     0.764           0.771"
      ]
     },
     "execution_count": 58,
     "metadata": {},
     "output_type": "execute_result"
    }
   ],
   "source": [
    "from sklearn.ensemble import AdaBoostClassifier\n",
    "abcl = AdaBoostClassifier(n_estimators = 50, random_state = 22)\n",
    "abcl = abcl.fit(X_trainR, y_trainR)\n",
    "pred_abcl = abcl.predict(X_test)\n",
    "abcl_accTe = accuracy_score(y_test, pred_abcl).round(3)\n",
    "abcl_accTr = abcl.score(X_train, y_train).round(3)\n",
    "\n",
    "acc_report.loc['Ada Boost'] = [abcl_accTe, abcl_accTr]\n",
    "acc_report"
   ]
  },
  {
   "cell_type": "markdown",
   "metadata": {},
   "source": [
    "There is not much difference of accuracies between Test and Train data. And it is not overfitted."
   ]
  },
  {
   "cell_type": "code",
   "execution_count": 59,
   "metadata": {},
   "outputs": [
    {
     "data": {
      "text/html": [
       "<div>\n",
       "<style scoped>\n",
       "    .dataframe tbody tr th:only-of-type {\n",
       "        vertical-align: middle;\n",
       "    }\n",
       "\n",
       "    .dataframe tbody tr th {\n",
       "        vertical-align: top;\n",
       "    }\n",
       "\n",
       "    .dataframe thead th {\n",
       "        text-align: right;\n",
       "    }\n",
       "</style>\n",
       "<table border=\"1\" class=\"dataframe\">\n",
       "  <thead>\n",
       "    <tr style=\"text-align: right;\">\n",
       "      <th></th>\n",
       "      <th>Accuracy Test</th>\n",
       "      <th>Accuracy Train</th>\n",
       "    </tr>\n",
       "    <tr>\n",
       "      <th>Model</th>\n",
       "      <th></th>\n",
       "      <th></th>\n",
       "    </tr>\n",
       "  </thead>\n",
       "  <tbody>\n",
       "    <tr>\n",
       "      <th>Decision Tree</th>\n",
       "      <td>0.734</td>\n",
       "      <td>0.998</td>\n",
       "    </tr>\n",
       "    <tr>\n",
       "      <th>Decision Tree R</th>\n",
       "      <td>0.774</td>\n",
       "      <td>0.802</td>\n",
       "    </tr>\n",
       "    <tr>\n",
       "      <th>Random Forest</th>\n",
       "      <td>0.779</td>\n",
       "      <td>0.998</td>\n",
       "    </tr>\n",
       "    <tr>\n",
       "      <th>Random Forest R</th>\n",
       "      <td>0.777</td>\n",
       "      <td>0.842</td>\n",
       "    </tr>\n",
       "    <tr>\n",
       "      <th>Bagging Classifier</th>\n",
       "      <td>0.776</td>\n",
       "      <td>0.995</td>\n",
       "    </tr>\n",
       "    <tr>\n",
       "      <th>Bagging Classifier R</th>\n",
       "      <td>0.744</td>\n",
       "      <td>0.865</td>\n",
       "    </tr>\n",
       "    <tr>\n",
       "      <th>Ada Boost</th>\n",
       "      <td>0.764</td>\n",
       "      <td>0.771</td>\n",
       "    </tr>\n",
       "    <tr>\n",
       "      <th>Gradient Boosting</th>\n",
       "      <td>0.776</td>\n",
       "      <td>0.827</td>\n",
       "    </tr>\n",
       "  </tbody>\n",
       "</table>\n",
       "</div>"
      ],
      "text/plain": [
       "                      Accuracy Test  Accuracy Train\n",
       "Model                                              \n",
       "Decision Tree                 0.734           0.998\n",
       "Decision Tree R               0.774           0.802\n",
       "Random Forest                 0.779           0.998\n",
       "Random Forest R               0.777           0.842\n",
       "Bagging Classifier            0.776           0.995\n",
       "Bagging Classifier R          0.744           0.865\n",
       "Ada Boost                     0.764           0.771\n",
       "Gradient Boosting             0.776           0.827"
      ]
     },
     "execution_count": 59,
     "metadata": {},
     "output_type": "execute_result"
    }
   ],
   "source": [
    "from sklearn.ensemble import GradientBoostingClassifier\n",
    "gbcl = GradientBoostingClassifier(n_estimators = 50, learning_rate = 0.1, random_state = 30)\n",
    "gbcl = gbcl.fit(X_trainR, y_trainR)\n",
    "pred_gb = gbcl.predict(X_test)\n",
    "gb_accTe = accuracy_score(y_test, pred_gb).round(3)\n",
    "gb_accTr = gbcl.score(X_trainR, y_trainR).round(3)\n",
    "\n",
    "acc_report.loc['Gradient Boosting'] = [gb_accTe, gb_accTr]\n",
    "acc_report"
   ]
  },
  {
   "cell_type": "markdown",
   "metadata": {},
   "source": [
    "There is not much difference of accuracies between Test and Train data. And it is not overfitted.\n",
    "\n",
    "**We can use Decision Tree R, Random Forest R, Ada Boost, Gradient Boosting models as all have around 77% accuracies.**\n",
    "\n",
    "**Ada Boost is better model because there is not much difference between test and train data.**\n",
    "\n",
    "**But if we dont want to use boosting model then we can go for Decision Tree R.**\n",
    "\n",
    "Now let us check confusion matrix.\n",
    "\n",
    "**Customers who are Churned but we have predicted as Non-Churned. We want this error to be less.**"
   ]
  },
  {
   "cell_type": "code",
   "execution_count": 60,
   "metadata": {},
   "outputs": [
    {
     "data": {
      "image/png": "[encoded data removed]",
      "text/plain": [
       "<Figure size 720x504 with 2 Axes>"
      ]
     },
     "metadata": {
      "needs_background": "light"
     },
     "output_type": "display_data"
    }
   ],
   "source": [
    "# Confusion matrix for Decision Tree R\n",
    "\n",
    "from sklearn.metrics import confusion_matrix\n",
    "cm = metrics.confusion_matrix (y_test, pred_dtR, labels = [1, 0])\n",
    "df_cm = pd.DataFrame (cm, index = ['Actual 1', 'Actual 0'], columns = ['Predict 1', 'Predict 0'])\n",
    "plt.figure(figsize= (10,7))\n",
    "sns.heatmap(df_cm, annot=True, fmt='.2f');"
   ]
  },
  {
   "cell_type": "code",
   "execution_count": 61,
   "metadata": {},
   "outputs": [
    {
     "data": {
      "text/html": [
       "<div>\n",
       "<style scoped>\n",
       "    .dataframe tbody tr th:only-of-type {\n",
       "        vertical-align: middle;\n",
       "    }\n",
       "\n",
       "    .dataframe tbody tr th {\n",
       "        vertical-align: top;\n",
       "    }\n",
       "\n",
       "    .dataframe thead th {\n",
       "        text-align: right;\n",
       "    }\n",
       "</style>\n",
       "<table border=\"1\" class=\"dataframe\">\n",
       "  <thead>\n",
       "    <tr style=\"text-align: right;\">\n",
       "      <th></th>\n",
       "      <th>Model</th>\n",
       "      <th>Count</th>\n",
       "    </tr>\n",
       "  </thead>\n",
       "  <tbody>\n",
       "    <tr>\n",
       "      <th>0</th>\n",
       "      <td>Decision Tree R</td>\n",
       "      <td>187</td>\n",
       "    </tr>\n",
       "  </tbody>\n",
       "</table>\n",
       "</div>"
      ],
      "text/plain": [
       "             Model  Count\n",
       "0  Decision Tree R    187"
      ]
     },
     "execution_count": 61,
     "metadata": {},
     "output_type": "execute_result"
    }
   ],
   "source": [
    "data_cm = pd.DataFrame({'Model': ['Decision Tree R'], 'Count': [df_cm.iloc[0,1]]})\n",
    "# data_cm.set_index('Model', inplace = True)\n",
    "data_cm"
   ]
  },
  {
   "cell_type": "code",
   "execution_count": 62,
   "metadata": {},
   "outputs": [
    {
     "data": {
      "image/png": "[encoded data removed]",
      "text/plain": [
       "<Figure size 720x504 with 2 Axes>"
      ]
     },
     "metadata": {
      "needs_background": "light"
     },
     "output_type": "display_data"
    }
   ],
   "source": [
    "# Confusion matrix for Rain Forest R\n",
    "\n",
    "from sklearn.metrics import confusion_matrix\n",
    "cm = metrics.confusion_matrix (y_test, pred_rfR, labels = [1, 0])\n",
    "df_cm = pd.DataFrame (cm, index = ['Actual 1', 'Actual 0'], columns = ['Predict 1', 'Predict 0'])\n",
    "plt.figure(figsize= (10,7))\n",
    "sns.heatmap(df_cm, annot=True, fmt='.2f');"
   ]
  },
  {
   "cell_type": "code",
   "execution_count": 63,
   "metadata": {},
   "outputs": [
    {
     "data": {
      "text/html": [
       "<div>\n",
       "<style scoped>\n",
       "    .dataframe tbody tr th:only-of-type {\n",
       "        vertical-align: middle;\n",
       "    }\n",
       "\n",
       "    .dataframe tbody tr th {\n",
       "        vertical-align: top;\n",
       "    }\n",
       "\n",
       "    .dataframe thead th {\n",
       "        text-align: right;\n",
       "    }\n",
       "</style>\n",
       "<table border=\"1\" class=\"dataframe\">\n",
       "  <thead>\n",
       "    <tr style=\"text-align: right;\">\n",
       "      <th></th>\n",
       "      <th>Model</th>\n",
       "      <th>Count</th>\n",
       "    </tr>\n",
       "  </thead>\n",
       "  <tbody>\n",
       "    <tr>\n",
       "      <th>0</th>\n",
       "      <td>Decision Tree R</td>\n",
       "      <td>187</td>\n",
       "    </tr>\n",
       "    <tr>\n",
       "      <th>1</th>\n",
       "      <td>Random Forest R</td>\n",
       "      <td>153</td>\n",
       "    </tr>\n",
       "  </tbody>\n",
       "</table>\n",
       "</div>"
      ],
      "text/plain": [
       "             Model  Count\n",
       "0  Decision Tree R    187\n",
       "1  Random Forest R    153"
      ]
     },
     "execution_count": 63,
     "metadata": {},
     "output_type": "execute_result"
    }
   ],
   "source": [
    "data_cm.loc['1'] = ['Random Forest R', df_cm.iloc[0,1]]\n",
    "data_cm\n"
   ]
  },
  {
   "cell_type": "code",
   "execution_count": 64,
   "metadata": {},
   "outputs": [
    {
     "data": {
      "image/png": "[encoded data removed]",
      "text/plain": [
       "<Figure size 720x504 with 2 Axes>"
      ]
     },
     "metadata": {
      "needs_background": "light"
     },
     "output_type": "display_data"
    }
   ],
   "source": [
    "# Confusion matrix for Ada Boost\n",
    "\n",
    "from sklearn.metrics import confusion_matrix\n",
    "cm = metrics.confusion_matrix (y_test, pred_abcl, labels = [1, 0])\n",
    "df_cm = pd.DataFrame (cm, index = ['Actual 1', 'Actual 0'], columns = ['Predict 1', 'Predict 0'])\n",
    "plt.figure(figsize= (10,7))\n",
    "sns.heatmap(df_cm, annot=True, fmt='.2f');"
   ]
  },
  {
   "cell_type": "code",
   "execution_count": 65,
   "metadata": {},
   "outputs": [
    {
     "data": {
      "text/html": [
       "<div>\n",
       "<style scoped>\n",
       "    .dataframe tbody tr th:only-of-type {\n",
       "        vertical-align: middle;\n",
       "    }\n",
       "\n",
       "    .dataframe tbody tr th {\n",
       "        vertical-align: top;\n",
       "    }\n",
       "\n",
       "    .dataframe thead th {\n",
       "        text-align: right;\n",
       "    }\n",
       "</style>\n",
       "<table border=\"1\" class=\"dataframe\">\n",
       "  <thead>\n",
       "    <tr style=\"text-align: right;\">\n",
       "      <th></th>\n",
       "      <th>Model</th>\n",
       "      <th>Count</th>\n",
       "    </tr>\n",
       "  </thead>\n",
       "  <tbody>\n",
       "    <tr>\n",
       "      <th>0</th>\n",
       "      <td>Decision Tree R</td>\n",
       "      <td>187</td>\n",
       "    </tr>\n",
       "    <tr>\n",
       "      <th>1</th>\n",
       "      <td>Random Forest R</td>\n",
       "      <td>153</td>\n",
       "    </tr>\n",
       "    <tr>\n",
       "      <th>2</th>\n",
       "      <td>Ada Boost</td>\n",
       "      <td>136</td>\n",
       "    </tr>\n",
       "  </tbody>\n",
       "</table>\n",
       "</div>"
      ],
      "text/plain": [
       "             Model  Count\n",
       "0  Decision Tree R    187\n",
       "1  Random Forest R    153\n",
       "2        Ada Boost    136"
      ]
     },
     "execution_count": 65,
     "metadata": {},
     "output_type": "execute_result"
    }
   ],
   "source": [
    "data_cm.loc['2'] = ['Ada Boost', df_cm.iloc[0,1]]\n",
    "data_cm"
   ]
  },
  {
   "cell_type": "code",
   "execution_count": 66,
   "metadata": {},
   "outputs": [
    {
     "data": {
      "image/png": "[encoded data removed]",
      "text/plain": [
       "<Figure size 720x504 with 2 Axes>"
      ]
     },
     "metadata": {
      "needs_background": "light"
     },
     "output_type": "display_data"
    }
   ],
   "source": [
    "# Confusion matrix for Gradient Boost\n",
    "\n",
    "from sklearn.metrics import confusion_matrix\n",
    "cm = metrics.confusion_matrix (y_test, pred_gb, labels = [1, 0])\n",
    "df_cm = pd.DataFrame (cm, index = ['Actual 1', 'Actual 0'], columns = ['Predict 1', 'Predict 0'])\n",
    "plt.figure(figsize= (10,7))\n",
    "sns.heatmap(df_cm, annot=True, fmt='.2f');"
   ]
  },
  {
   "cell_type": "code",
   "execution_count": 67,
   "metadata": {},
   "outputs": [
    {
     "data": {
      "text/html": [
       "<div>\n",
       "<style scoped>\n",
       "    .dataframe tbody tr th:only-of-type {\n",
       "        vertical-align: middle;\n",
       "    }\n",
       "\n",
       "    .dataframe tbody tr th {\n",
       "        vertical-align: top;\n",
       "    }\n",
       "\n",
       "    .dataframe thead th {\n",
       "        text-align: right;\n",
       "    }\n",
       "</style>\n",
       "<table border=\"1\" class=\"dataframe\">\n",
       "  <thead>\n",
       "    <tr style=\"text-align: right;\">\n",
       "      <th></th>\n",
       "      <th>Model</th>\n",
       "      <th>Count</th>\n",
       "    </tr>\n",
       "  </thead>\n",
       "  <tbody>\n",
       "    <tr>\n",
       "      <th>0</th>\n",
       "      <td>Decision Tree R</td>\n",
       "      <td>187</td>\n",
       "    </tr>\n",
       "    <tr>\n",
       "      <th>1</th>\n",
       "      <td>Random Forest R</td>\n",
       "      <td>153</td>\n",
       "    </tr>\n",
       "    <tr>\n",
       "      <th>2</th>\n",
       "      <td>Ada Boost</td>\n",
       "      <td>136</td>\n",
       "    </tr>\n",
       "    <tr>\n",
       "      <th>3</th>\n",
       "      <td>Gradient Boosting</td>\n",
       "      <td>155</td>\n",
       "    </tr>\n",
       "  </tbody>\n",
       "</table>\n",
       "</div>"
      ],
      "text/plain": [
       "               Model  Count\n",
       "0    Decision Tree R    187\n",
       "1    Random Forest R    153\n",
       "2          Ada Boost    136\n",
       "3  Gradient Boosting    155"
      ]
     },
     "execution_count": 67,
     "metadata": {},
     "output_type": "execute_result"
    }
   ],
   "source": [
    "data_cm.loc['3'] = ['Gradient Boosting', df_cm.iloc[0,1]]\n",
    "data_cm"
   ]
  },
  {
   "cell_type": "markdown",
   "metadata": {},
   "source": [
    "In above table the count is for customers who are Churned but from model it is marked as Non-Churned. \n",
    "\n",
    "Less the error better the model.\n",
    "\n",
    "**We can finalise Ada Boost Model as it has less number of these errors.**"
   ]
  },
  {
   "cell_type": "markdown",
   "metadata": {},
   "source": [
    "### 6. Conclusion and improvisation: \n",
    "[ Score: 5 point ]\n",
    "\n",
    "• Write your conclusion on the results.\n",
    "\n",
    "• Detailed suggestions or improvements or on quality, quantity, variety, velocity, veracity etc. on the data points collected by the telecom operator to perform a better data analysis in future"
   ]
  },
  {
   "cell_type": "markdown",
   "metadata": {},
   "source": [
    "**Answer:**\n",
    "\n",
    "We can use Decision Tree R, Random Forest R, Ada Boost, Gradient Boosting models to predict customer probability to churn. We can prefer Ada Boost model as it has less number of errors.\n",
    "\n",
    "From Data analysis & visualisation:\n",
    "Need to focus on customers who have less than 4 tenure, with internet service of fiber optic. Also focus on customers to sign up for other services which has less churning. Churning is more for More monthly charges.\n",
    "\n",
    "We can use this analysis to make a strategy to retain more number of customers. \n",
    "\n",
    "Suggestions:\n",
    "\n",
    "Most of the customers are churned having more MonthlyCharges. We have only last month's data so we need to check if recently any other telecom is providing services with lower MonthlyCharges. Or if we would have got old data as well then we could have analyse the situation better.\n",
    "\n",
    "We have very less data for Churned customers than non-churned. If we can receive balanced data it would be great. \n",
    "\n",
    "Ovrall more data would have been good to find more patterns and to improve accuracy."
   ]
  }
 ],
 "metadata": {
  "kernelspec": {
   "display_name": "Python 3",
   "language": "python",
   "name": "python3"
  },
  "language_info": {
   "codemirror_mode": {
    "name": "ipython",
    "version": 3
   },
   "file_extension": ".py",
   "mimetype": "text/x-python",
   "name": "python",
   "nbconvert_exporter": "python",
   "pygments_lexer": "ipython3",
   "version": "3.8.5"
  }
 },
 "nbformat": 4,
 "nbformat_minor": 4
}
